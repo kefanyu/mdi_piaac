{
 "cells": [
  {
   "cell_type": "code",
   "execution_count": 1,
   "metadata": {},
   "outputs": [],
   "source": [
    "import pandas as pd\n",
    "import numpy as np\n",
    "import xlrd"
   ]
  },
  {
   "cell_type": "code",
   "execution_count": 2,
   "metadata": {},
   "outputs": [
    {
     "data": {
      "text/html": [
       "<div>\n",
       "<style scoped>\n",
       "    .dataframe tbody tr th:only-of-type {\n",
       "        vertical-align: middle;\n",
       "    }\n",
       "\n",
       "    .dataframe tbody tr th {\n",
       "        vertical-align: top;\n",
       "    }\n",
       "\n",
       "    .dataframe thead th {\n",
       "        text-align: right;\n",
       "    }\n",
       "</style>\n",
       "<table border=\"1\" class=\"dataframe\">\n",
       "  <thead>\n",
       "    <tr style=\"text-align: right;\">\n",
       "      <th></th>\n",
       "      <th>CNTRYID</th>\n",
       "      <th>CNT</th>\n",
       "      <th>OECD</th>\n",
       "      <th>LANGTEST_QQQ</th>\n",
       "      <th>LANGTEST_COG</th>\n",
       "      <th>LANGTEST_PAQ</th>\n",
       "      <th>PROGN</th>\n",
       "      <th>LANGN</th>\n",
       "      <th>LANGMOTHER</th>\n",
       "      <th>LANGFATHER</th>\n",
       "      <th>LANGSIBLINGS</th>\n",
       "      <th>LANGFRIEND</th>\n",
       "      <th>LANGSCHMATES</th>\n",
       "      <th>IMMIG</th>\n",
       "    </tr>\n",
       "  </thead>\n",
       "  <tbody>\n",
       "    <tr>\n",
       "      <th>0</th>\n",
       "      <td>8</td>\n",
       "      <td>ALB</td>\n",
       "      <td>0</td>\n",
       "      <td>140</td>\n",
       "      <td>140</td>\n",
       "      <td></td>\n",
       "      <td>80003</td>\n",
       "      <td>865</td>\n",
       "      <td>1</td>\n",
       "      <td>1</td>\n",
       "      <td>1</td>\n",
       "      <td>1</td>\n",
       "      <td>1</td>\n",
       "      <td>1</td>\n",
       "    </tr>\n",
       "    <tr>\n",
       "      <th>1</th>\n",
       "      <td>8</td>\n",
       "      <td>ALB</td>\n",
       "      <td>0</td>\n",
       "      <td>140</td>\n",
       "      <td>140</td>\n",
       "      <td></td>\n",
       "      <td>80003</td>\n",
       "      <td>140</td>\n",
       "      <td>7</td>\n",
       "      <td>7</td>\n",
       "      <td>7</td>\n",
       "      <td>7</td>\n",
       "      <td>7</td>\n",
       "      <td>1</td>\n",
       "    </tr>\n",
       "    <tr>\n",
       "      <th>2</th>\n",
       "      <td>8</td>\n",
       "      <td>ALB</td>\n",
       "      <td>0</td>\n",
       "      <td>140</td>\n",
       "      <td>140</td>\n",
       "      <td></td>\n",
       "      <td>80003</td>\n",
       "      <td>140</td>\n",
       "      <td>7</td>\n",
       "      <td>7</td>\n",
       "      <td>7</td>\n",
       "      <td>7</td>\n",
       "      <td>7</td>\n",
       "      <td>1</td>\n",
       "    </tr>\n",
       "    <tr>\n",
       "      <th>3</th>\n",
       "      <td>8</td>\n",
       "      <td>ALB</td>\n",
       "      <td>0</td>\n",
       "      <td>140</td>\n",
       "      <td>140</td>\n",
       "      <td></td>\n",
       "      <td>80003</td>\n",
       "      <td>140</td>\n",
       "      <td>7</td>\n",
       "      <td>7</td>\n",
       "      <td>7</td>\n",
       "      <td>7</td>\n",
       "      <td>7</td>\n",
       "      <td>1</td>\n",
       "    </tr>\n",
       "    <tr>\n",
       "      <th>4</th>\n",
       "      <td>8</td>\n",
       "      <td>ALB</td>\n",
       "      <td>0</td>\n",
       "      <td>140</td>\n",
       "      <td>140</td>\n",
       "      <td></td>\n",
       "      <td>80003</td>\n",
       "      <td>140</td>\n",
       "      <td>7</td>\n",
       "      <td>7</td>\n",
       "      <td>7</td>\n",
       "      <td>7</td>\n",
       "      <td>7</td>\n",
       "      <td>1</td>\n",
       "    </tr>\n",
       "  </tbody>\n",
       "</table>\n",
       "</div>"
      ],
      "text/plain": [
       "   CNTRYID  CNT  OECD LANGTEST_QQQ  LANGTEST_COG LANGTEST_PAQ  PROGN  LANGN  \\\n",
       "0        8  ALB     0          140           140               80003    865   \n",
       "1        8  ALB     0          140           140               80003    140   \n",
       "2        8  ALB     0          140           140               80003    140   \n",
       "3        8  ALB     0          140           140               80003    140   \n",
       "4        8  ALB     0          140           140               80003    140   \n",
       "\n",
       "  LANGMOTHER LANGFATHER LANGSIBLINGS LANGFRIEND LANGSCHMATES  IMMIG  \n",
       "0          1          1            1          1            1      1  \n",
       "1          7          7            7          7            7      1  \n",
       "2          7          7            7          7            7      1  \n",
       "3          7          7            7          7            7      1  \n",
       "4          7          7            7          7            7      1  "
      ]
     },
     "execution_count": 2,
     "metadata": {},
     "output_type": "execute_result"
    }
   ],
   "source": [
    "qqq = pd.read_csv(\"qqq_filter.csv\")\n",
    "qqq.head()"
   ]
  },
  {
   "cell_type": "code",
   "execution_count": 3,
   "metadata": {},
   "outputs": [],
   "source": [
    "cntbelow = [\"ARE\", \"AUS\", \"CAN\", \"CHE\", \"LUX\",\"MAC\", \"NZL\", \"QAT\"]\n",
    "\n",
    "qqq_filter = qqq[qqq[\"CNT\"].isin(cntbelow)]"
   ]
  },
  {
   "cell_type": "code",
   "execution_count": 4,
   "metadata": {},
   "outputs": [
    {
     "data": {
      "text/html": [
       "<div>\n",
       "<style scoped>\n",
       "    .dataframe tbody tr th:only-of-type {\n",
       "        vertical-align: middle;\n",
       "    }\n",
       "\n",
       "    .dataframe tbody tr th {\n",
       "        vertical-align: top;\n",
       "    }\n",
       "\n",
       "    .dataframe thead th {\n",
       "        text-align: right;\n",
       "    }\n",
       "</style>\n",
       "<table border=\"1\" class=\"dataframe\">\n",
       "  <thead>\n",
       "    <tr style=\"text-align: right;\">\n",
       "      <th></th>\n",
       "      <th>CNTRYID</th>\n",
       "      <th>CNT</th>\n",
       "      <th>OECD</th>\n",
       "      <th>LANGTEST_QQQ</th>\n",
       "      <th>LANGTEST_COG</th>\n",
       "      <th>LANGTEST_PAQ</th>\n",
       "      <th>PROGN</th>\n",
       "      <th>LANGN</th>\n",
       "      <th>LANGMOTHER</th>\n",
       "      <th>LANGFATHER</th>\n",
       "      <th>LANGSIBLINGS</th>\n",
       "      <th>LANGFRIEND</th>\n",
       "      <th>LANGSCHMATES</th>\n",
       "      <th>IMMIG</th>\n",
       "    </tr>\n",
       "  </thead>\n",
       "  <tbody>\n",
       "    <tr>\n",
       "      <th>6359</th>\n",
       "      <td>784</td>\n",
       "      <td>ARE</td>\n",
       "      <td>0</td>\n",
       "      <td>500</td>\n",
       "      <td>991</td>\n",
       "      <td></td>\n",
       "      <td>7840001</td>\n",
       "      <td>500</td>\n",
       "      <td>7</td>\n",
       "      <td>7</td>\n",
       "      <td>7</td>\n",
       "      <td>7</td>\n",
       "      <td>7</td>\n",
       "      <td>1</td>\n",
       "    </tr>\n",
       "    <tr>\n",
       "      <th>6360</th>\n",
       "      <td>784</td>\n",
       "      <td>ARE</td>\n",
       "      <td>0</td>\n",
       "      <td>500</td>\n",
       "      <td>991</td>\n",
       "      <td></td>\n",
       "      <td>7840001</td>\n",
       "      <td>500</td>\n",
       "      <td>7</td>\n",
       "      <td>7</td>\n",
       "      <td>7</td>\n",
       "      <td>7</td>\n",
       "      <td>7</td>\n",
       "      <td>1</td>\n",
       "    </tr>\n",
       "    <tr>\n",
       "      <th>6361</th>\n",
       "      <td>784</td>\n",
       "      <td>ARE</td>\n",
       "      <td>0</td>\n",
       "      <td>500</td>\n",
       "      <td>991</td>\n",
       "      <td></td>\n",
       "      <td>7840001</td>\n",
       "      <td>500</td>\n",
       "      <td>7</td>\n",
       "      <td>7</td>\n",
       "      <td>7</td>\n",
       "      <td>7</td>\n",
       "      <td>7</td>\n",
       "      <td>1</td>\n",
       "    </tr>\n",
       "    <tr>\n",
       "      <th>6362</th>\n",
       "      <td>784</td>\n",
       "      <td>ARE</td>\n",
       "      <td>0</td>\n",
       "      <td>500</td>\n",
       "      <td>991</td>\n",
       "      <td></td>\n",
       "      <td>7840001</td>\n",
       "      <td>500</td>\n",
       "      <td>7</td>\n",
       "      <td>7</td>\n",
       "      <td>7</td>\n",
       "      <td>7</td>\n",
       "      <td>7</td>\n",
       "      <td>1</td>\n",
       "    </tr>\n",
       "    <tr>\n",
       "      <th>6363</th>\n",
       "      <td>784</td>\n",
       "      <td>ARE</td>\n",
       "      <td>0</td>\n",
       "      <td>500</td>\n",
       "      <td>991</td>\n",
       "      <td></td>\n",
       "      <td>7840001</td>\n",
       "      <td>500</td>\n",
       "      <td>7</td>\n",
       "      <td>7</td>\n",
       "      <td>7</td>\n",
       "      <td>7</td>\n",
       "      <td>7</td>\n",
       "      <td>1</td>\n",
       "    </tr>\n",
       "    <tr>\n",
       "      <th>...</th>\n",
       "      <td>...</td>\n",
       "      <td>...</td>\n",
       "      <td>...</td>\n",
       "      <td>...</td>\n",
       "      <td>...</td>\n",
       "      <td>...</td>\n",
       "      <td>...</td>\n",
       "      <td>...</td>\n",
       "      <td>...</td>\n",
       "      <td>...</td>\n",
       "      <td>...</td>\n",
       "      <td>...</td>\n",
       "      <td>...</td>\n",
       "      <td>...</td>\n",
       "    </tr>\n",
       "    <tr>\n",
       "      <th>491066</th>\n",
       "      <td>634</td>\n",
       "      <td>QAT</td>\n",
       "      <td>0</td>\n",
       "      <td>313</td>\n",
       "      <td>313</td>\n",
       "      <td></td>\n",
       "      <td>6340004</td>\n",
       "      <td>500</td>\n",
       "      <td>1</td>\n",
       "      <td>1</td>\n",
       "      <td>1</td>\n",
       "      <td>3</td>\n",
       "      <td>3</td>\n",
       "      <td>3</td>\n",
       "    </tr>\n",
       "    <tr>\n",
       "      <th>491067</th>\n",
       "      <td>634</td>\n",
       "      <td>QAT</td>\n",
       "      <td>0</td>\n",
       "      <td>313</td>\n",
       "      <td>313</td>\n",
       "      <td></td>\n",
       "      <td>6340004</td>\n",
       "      <td>313</td>\n",
       "      <td>7</td>\n",
       "      <td>7</td>\n",
       "      <td>7</td>\n",
       "      <td>7</td>\n",
       "      <td>7</td>\n",
       "      <td>3</td>\n",
       "    </tr>\n",
       "    <tr>\n",
       "      <th>491068</th>\n",
       "      <td>634</td>\n",
       "      <td>QAT</td>\n",
       "      <td>0</td>\n",
       "      <td>313</td>\n",
       "      <td>313</td>\n",
       "      <td></td>\n",
       "      <td>6340004</td>\n",
       "      <td>313</td>\n",
       "      <td>7</td>\n",
       "      <td>7</td>\n",
       "      <td>7</td>\n",
       "      <td>7</td>\n",
       "      <td>7</td>\n",
       "      <td>3</td>\n",
       "    </tr>\n",
       "    <tr>\n",
       "      <th>491069</th>\n",
       "      <td>634</td>\n",
       "      <td>QAT</td>\n",
       "      <td>0</td>\n",
       "      <td>313</td>\n",
       "      <td>313</td>\n",
       "      <td></td>\n",
       "      <td>6340004</td>\n",
       "      <td>500</td>\n",
       "      <td>1</td>\n",
       "      <td>1</td>\n",
       "      <td>1</td>\n",
       "      <td>1</td>\n",
       "      <td>2</td>\n",
       "      <td>1</td>\n",
       "    </tr>\n",
       "    <tr>\n",
       "      <th>491070</th>\n",
       "      <td>634</td>\n",
       "      <td>QAT</td>\n",
       "      <td>0</td>\n",
       "      <td>313</td>\n",
       "      <td>313</td>\n",
       "      <td></td>\n",
       "      <td>6340004</td>\n",
       "      <td>313</td>\n",
       "      <td>7</td>\n",
       "      <td>7</td>\n",
       "      <td>7</td>\n",
       "      <td>7</td>\n",
       "      <td>7</td>\n",
       "      <td>3</td>\n",
       "    </tr>\n",
       "  </tbody>\n",
       "</table>\n",
       "<p>91031 rows × 14 columns</p>\n",
       "</div>"
      ],
      "text/plain": [
       "        CNTRYID  CNT  OECD LANGTEST_QQQ  LANGTEST_COG LANGTEST_PAQ    PROGN  \\\n",
       "6359        784  ARE     0          500           991               7840001   \n",
       "6360        784  ARE     0          500           991               7840001   \n",
       "6361        784  ARE     0          500           991               7840001   \n",
       "6362        784  ARE     0          500           991               7840001   \n",
       "6363        784  ARE     0          500           991               7840001   \n",
       "...         ...  ...   ...          ...           ...          ...      ...   \n",
       "491066      634  QAT     0          313           313               6340004   \n",
       "491067      634  QAT     0          313           313               6340004   \n",
       "491068      634  QAT     0          313           313               6340004   \n",
       "491069      634  QAT     0          313           313               6340004   \n",
       "491070      634  QAT     0          313           313               6340004   \n",
       "\n",
       "        LANGN LANGMOTHER LANGFATHER LANGSIBLINGS LANGFRIEND LANGSCHMATES  \\\n",
       "6359      500          7          7            7          7            7   \n",
       "6360      500          7          7            7          7            7   \n",
       "6361      500          7          7            7          7            7   \n",
       "6362      500          7          7            7          7            7   \n",
       "6363      500          7          7            7          7            7   \n",
       "...       ...        ...        ...          ...        ...          ...   \n",
       "491066    500          1          1            1          3            3   \n",
       "491067    313          7          7            7          7            7   \n",
       "491068    313          7          7            7          7            7   \n",
       "491069    500          1          1            1          1            2   \n",
       "491070    313          7          7            7          7            7   \n",
       "\n",
       "        IMMIG  \n",
       "6359        1  \n",
       "6360        1  \n",
       "6361        1  \n",
       "6362        1  \n",
       "6363        1  \n",
       "...       ...  \n",
       "491066      3  \n",
       "491067      3  \n",
       "491068      3  \n",
       "491069      1  \n",
       "491070      3  \n",
       "\n",
       "[91031 rows x 14 columns]"
      ]
     },
     "execution_count": 4,
     "metadata": {},
     "output_type": "execute_result"
    }
   ],
   "source": [
    "qqq_filter"
   ]
  },
  {
   "cell_type": "code",
   "execution_count": 5,
   "metadata": {},
   "outputs": [],
   "source": [
    "immi = [2, 3]\n",
    "\n",
    "qqq_immi = qqq_filter[qqq_filter[\"IMMIG\"].isin(immi)]"
   ]
  },
  {
   "cell_type": "code",
   "execution_count": 6,
   "metadata": {},
   "outputs": [
    {
     "data": {
      "text/html": [
       "<div>\n",
       "<style scoped>\n",
       "    .dataframe tbody tr th:only-of-type {\n",
       "        vertical-align: middle;\n",
       "    }\n",
       "\n",
       "    .dataframe tbody tr th {\n",
       "        vertical-align: top;\n",
       "    }\n",
       "\n",
       "    .dataframe thead th {\n",
       "        text-align: right;\n",
       "    }\n",
       "</style>\n",
       "<table border=\"1\" class=\"dataframe\">\n",
       "  <thead>\n",
       "    <tr style=\"text-align: right;\">\n",
       "      <th></th>\n",
       "      <th>CNTRYID</th>\n",
       "      <th>CNT</th>\n",
       "      <th>OECD</th>\n",
       "      <th>LANGTEST_QQQ</th>\n",
       "      <th>LANGTEST_COG</th>\n",
       "      <th>LANGTEST_PAQ</th>\n",
       "      <th>PROGN</th>\n",
       "      <th>LANGN</th>\n",
       "      <th>LANGMOTHER</th>\n",
       "      <th>LANGFATHER</th>\n",
       "      <th>LANGSIBLINGS</th>\n",
       "      <th>LANGFRIEND</th>\n",
       "      <th>LANGSCHMATES</th>\n",
       "      <th>IMMIG</th>\n",
       "    </tr>\n",
       "  </thead>\n",
       "  <tbody>\n",
       "    <tr>\n",
       "      <th>6370</th>\n",
       "      <td>784</td>\n",
       "      <td>ARE</td>\n",
       "      <td>0</td>\n",
       "      <td>500</td>\n",
       "      <td>500</td>\n",
       "      <td></td>\n",
       "      <td>7840002</td>\n",
       "      <td>500</td>\n",
       "      <td>7</td>\n",
       "      <td>7</td>\n",
       "      <td>7</td>\n",
       "      <td>7</td>\n",
       "      <td>7</td>\n",
       "      <td>3</td>\n",
       "    </tr>\n",
       "    <tr>\n",
       "      <th>6377</th>\n",
       "      <td>784</td>\n",
       "      <td>ARE</td>\n",
       "      <td>0</td>\n",
       "      <td>500</td>\n",
       "      <td>500</td>\n",
       "      <td></td>\n",
       "      <td>7840002</td>\n",
       "      <td>500</td>\n",
       "      <td>7</td>\n",
       "      <td>7</td>\n",
       "      <td>7</td>\n",
       "      <td>7</td>\n",
       "      <td>7</td>\n",
       "      <td>2</td>\n",
       "    </tr>\n",
       "    <tr>\n",
       "      <th>6380</th>\n",
       "      <td>784</td>\n",
       "      <td>ARE</td>\n",
       "      <td>0</td>\n",
       "      <td>500</td>\n",
       "      <td>500</td>\n",
       "      <td></td>\n",
       "      <td>7840002</td>\n",
       "      <td>500</td>\n",
       "      <td>7</td>\n",
       "      <td>7</td>\n",
       "      <td>7</td>\n",
       "      <td>7</td>\n",
       "      <td>7</td>\n",
       "      <td>3</td>\n",
       "    </tr>\n",
       "    <tr>\n",
       "      <th>6381</th>\n",
       "      <td>784</td>\n",
       "      <td>ARE</td>\n",
       "      <td>0</td>\n",
       "      <td>500</td>\n",
       "      <td>500</td>\n",
       "      <td></td>\n",
       "      <td>7840002</td>\n",
       "      <td>500</td>\n",
       "      <td>7</td>\n",
       "      <td>7</td>\n",
       "      <td>7</td>\n",
       "      <td>7</td>\n",
       "      <td>7</td>\n",
       "      <td>3</td>\n",
       "    </tr>\n",
       "    <tr>\n",
       "      <th>6382</th>\n",
       "      <td>784</td>\n",
       "      <td>ARE</td>\n",
       "      <td>0</td>\n",
       "      <td>500</td>\n",
       "      <td>500</td>\n",
       "      <td></td>\n",
       "      <td>7840002</td>\n",
       "      <td>500</td>\n",
       "      <td>7</td>\n",
       "      <td>7</td>\n",
       "      <td>7</td>\n",
       "      <td>7</td>\n",
       "      <td>7</td>\n",
       "      <td>2</td>\n",
       "    </tr>\n",
       "    <tr>\n",
       "      <th>...</th>\n",
       "      <td>...</td>\n",
       "      <td>...</td>\n",
       "      <td>...</td>\n",
       "      <td>...</td>\n",
       "      <td>...</td>\n",
       "      <td>...</td>\n",
       "      <td>...</td>\n",
       "      <td>...</td>\n",
       "      <td>...</td>\n",
       "      <td>...</td>\n",
       "      <td>...</td>\n",
       "      <td>...</td>\n",
       "      <td>...</td>\n",
       "      <td>...</td>\n",
       "    </tr>\n",
       "    <tr>\n",
       "      <th>491064</th>\n",
       "      <td>634</td>\n",
       "      <td>QAT</td>\n",
       "      <td>0</td>\n",
       "      <td>313</td>\n",
       "      <td>313</td>\n",
       "      <td></td>\n",
       "      <td>6340004</td>\n",
       "      <td>313</td>\n",
       "      <td>7</td>\n",
       "      <td>7</td>\n",
       "      <td>7</td>\n",
       "      <td>7</td>\n",
       "      <td>7</td>\n",
       "      <td>3</td>\n",
       "    </tr>\n",
       "    <tr>\n",
       "      <th>491066</th>\n",
       "      <td>634</td>\n",
       "      <td>QAT</td>\n",
       "      <td>0</td>\n",
       "      <td>313</td>\n",
       "      <td>313</td>\n",
       "      <td></td>\n",
       "      <td>6340004</td>\n",
       "      <td>500</td>\n",
       "      <td>1</td>\n",
       "      <td>1</td>\n",
       "      <td>1</td>\n",
       "      <td>3</td>\n",
       "      <td>3</td>\n",
       "      <td>3</td>\n",
       "    </tr>\n",
       "    <tr>\n",
       "      <th>491067</th>\n",
       "      <td>634</td>\n",
       "      <td>QAT</td>\n",
       "      <td>0</td>\n",
       "      <td>313</td>\n",
       "      <td>313</td>\n",
       "      <td></td>\n",
       "      <td>6340004</td>\n",
       "      <td>313</td>\n",
       "      <td>7</td>\n",
       "      <td>7</td>\n",
       "      <td>7</td>\n",
       "      <td>7</td>\n",
       "      <td>7</td>\n",
       "      <td>3</td>\n",
       "    </tr>\n",
       "    <tr>\n",
       "      <th>491068</th>\n",
       "      <td>634</td>\n",
       "      <td>QAT</td>\n",
       "      <td>0</td>\n",
       "      <td>313</td>\n",
       "      <td>313</td>\n",
       "      <td></td>\n",
       "      <td>6340004</td>\n",
       "      <td>313</td>\n",
       "      <td>7</td>\n",
       "      <td>7</td>\n",
       "      <td>7</td>\n",
       "      <td>7</td>\n",
       "      <td>7</td>\n",
       "      <td>3</td>\n",
       "    </tr>\n",
       "    <tr>\n",
       "      <th>491070</th>\n",
       "      <td>634</td>\n",
       "      <td>QAT</td>\n",
       "      <td>0</td>\n",
       "      <td>313</td>\n",
       "      <td>313</td>\n",
       "      <td></td>\n",
       "      <td>6340004</td>\n",
       "      <td>313</td>\n",
       "      <td>7</td>\n",
       "      <td>7</td>\n",
       "      <td>7</td>\n",
       "      <td>7</td>\n",
       "      <td>7</td>\n",
       "      <td>3</td>\n",
       "    </tr>\n",
       "  </tbody>\n",
       "</table>\n",
       "<p>34407 rows × 14 columns</p>\n",
       "</div>"
      ],
      "text/plain": [
       "        CNTRYID  CNT  OECD LANGTEST_QQQ  LANGTEST_COG LANGTEST_PAQ    PROGN  \\\n",
       "6370        784  ARE     0          500           500               7840002   \n",
       "6377        784  ARE     0          500           500               7840002   \n",
       "6380        784  ARE     0          500           500               7840002   \n",
       "6381        784  ARE     0          500           500               7840002   \n",
       "6382        784  ARE     0          500           500               7840002   \n",
       "...         ...  ...   ...          ...           ...          ...      ...   \n",
       "491064      634  QAT     0          313           313               6340004   \n",
       "491066      634  QAT     0          313           313               6340004   \n",
       "491067      634  QAT     0          313           313               6340004   \n",
       "491068      634  QAT     0          313           313               6340004   \n",
       "491070      634  QAT     0          313           313               6340004   \n",
       "\n",
       "        LANGN LANGMOTHER LANGFATHER LANGSIBLINGS LANGFRIEND LANGSCHMATES  \\\n",
       "6370      500          7          7            7          7            7   \n",
       "6377      500          7          7            7          7            7   \n",
       "6380      500          7          7            7          7            7   \n",
       "6381      500          7          7            7          7            7   \n",
       "6382      500          7          7            7          7            7   \n",
       "...       ...        ...        ...          ...        ...          ...   \n",
       "491064    313          7          7            7          7            7   \n",
       "491066    500          1          1            1          3            3   \n",
       "491067    313          7          7            7          7            7   \n",
       "491068    313          7          7            7          7            7   \n",
       "491070    313          7          7            7          7            7   \n",
       "\n",
       "        IMMIG  \n",
       "6370        3  \n",
       "6377        2  \n",
       "6380        3  \n",
       "6381        3  \n",
       "6382        2  \n",
       "...       ...  \n",
       "491064      3  \n",
       "491066      3  \n",
       "491067      3  \n",
       "491068      3  \n",
       "491070      3  \n",
       "\n",
       "[34407 rows x 14 columns]"
      ]
     },
     "execution_count": 6,
     "metadata": {},
     "output_type": "execute_result"
    }
   ],
   "source": [
    "qqq_immi"
   ]
  },
  {
   "cell_type": "code",
   "execution_count": 7,
   "metadata": {},
   "outputs": [
    {
     "data": {
      "text/plain": [
       "array([500, 877, 313, 999, 801, 415, 329, 156, 641, 449, 625, 412, 669,\n",
       "       200, 463, 807, 493, 667, 854, 232, 140, 148, 648, 344, 133, 666,\n",
       "       834, 507, 600, 613, 835, 316, 839, 272, 301, 465, 844])"
      ]
     },
     "execution_count": 7,
     "metadata": {},
     "output_type": "execute_result"
    }
   ],
   "source": [
    "qqq_immi[\"LANGN\"].unique()"
   ]
  },
  {
   "cell_type": "code",
   "execution_count": 8,
   "metadata": {},
   "outputs": [
    {
     "name": "stderr",
     "output_type": "stream",
     "text": [
      "/var/folders/hv/08dyyt957zq3n_n6kttfl_180000gn/T/ipykernel_4115/1135911503.py:3: SettingWithCopyWarning: \n",
      "A value is trying to be set on a copy of a slice from a DataFrame\n",
      "\n",
      "See the caveats in the documentation: https://pandas.pydata.org/pandas-docs/stable/user_guide/indexing.html#returning-a-view-versus-a-copy\n",
      "  qqq_immi[\"LANGN\"].replace(immi_dict, inplace=True)\n"
     ]
    },
    {
     "data": {
      "text/plain": [
       "array(['Arabic', 'Another language (ARE)', 'English', nan,\n",
       "       'Another language (AUS)', 'Hindi', 'Vietnamese', 'Spanish',\n",
       "       'Mandarin', 'Greek', 'Cantonese', 'Punjabi',\n",
       "       'Arabic (including Lebanese)', 'Italian',\n",
       "       'An Australian Indigenous language', 'Another language (CAN)',\n",
       "       'French', 'South Slav', 'Another language (CHE)', 'Portuguese',\n",
       "       'Albanian', 'German', 'Swiss German', 'Turkish', \"Raeto'-Romance\",\n",
       "       'Dialect from Ticino or an Italian Region',\n",
       "       'Another language (LUX)', 'Luxembourgish',\n",
       "       'Yugoslavian - Serbian, Croatian, etc.',\n",
       "       'Chinese dialects or languages (MAC)', 'Another language (MAC)',\n",
       "       'Chinese', 'Another language (NZL)', 'Samoan', 'Korean', 'Maori',\n",
       "       'Another language (QAT)'], dtype=object)"
      ]
     },
     "execution_count": 8,
     "metadata": {},
     "output_type": "execute_result"
    }
   ],
   "source": [
    "immi_dict = {500: \"Arabic\", 877: \"Another language (ARE)\", 313: \"English\", 999: np.nan, 415: \"Hindi\", 801: \"Another language (AUS)\", 156: \"Spanish\", 449: \"Greek\", 625: \"Cantonese\", 329: \"Vietnamese\", 641: \"Mandarin\", 412: \"Punjabi\", 669: \"Arabic (including Lebanese)\", 200: \"Italian\", 463:\"An Australian Indigenous language\", 807: \"Another language (CAN)\", 493: \"French\", 667: \"South Slav\", 854: \"Another language (CHE)\", 232: \"Portuguese\", 140: \"Albanian\", 148: \"German\", 648: \"Swiss German\", 344: \"Turkish\", 133: \"Raeto'-Romance\", 666: \"Dialect from Ticino or an Italian Region\", 834: \"Another language (LUX)\", 507: \"Luxembourgish\", 600:\"Yugoslavian - Serbian, Croatian, etc.\", 613: \"Chinese dialects or languages (MAC)\", 835: \"Another language (MAC)\", 316: \"Chinese\", 839: \"Another language (NZL)\", 272: \"Samoan\", 301: \"Korean\", 465: \"Maori\", 844: \"Another language (QAT)\"}\n",
    "\n",
    "qqq_immi[\"LANGN\"].replace(immi_dict, inplace=True)\n",
    "\n",
    "qqq_immi[\"LANGN\"].unique()"
   ]
  },
  {
   "cell_type": "code",
   "execution_count": 9,
   "metadata": {},
   "outputs": [
    {
     "name": "stderr",
     "output_type": "stream",
     "text": [
      "/var/folders/hv/08dyyt957zq3n_n6kttfl_180000gn/T/ipykernel_4115/365200089.py:1: SettingWithCopyWarning: \n",
      "A value is trying to be set on a copy of a slice from a DataFrame\n",
      "\n",
      "See the caveats in the documentation: https://pandas.pydata.org/pandas-docs/stable/user_guide/indexing.html#returning-a-view-versus-a-copy\n",
      "  qqq_immi.dropna(subset=['LANGN'], inplace=True)\n"
     ]
    },
    {
     "data": {
      "text/html": [
       "<div>\n",
       "<style scoped>\n",
       "    .dataframe tbody tr th:only-of-type {\n",
       "        vertical-align: middle;\n",
       "    }\n",
       "\n",
       "    .dataframe tbody tr th {\n",
       "        vertical-align: top;\n",
       "    }\n",
       "\n",
       "    .dataframe thead th {\n",
       "        text-align: right;\n",
       "    }\n",
       "</style>\n",
       "<table border=\"1\" class=\"dataframe\">\n",
       "  <thead>\n",
       "    <tr style=\"text-align: right;\">\n",
       "      <th></th>\n",
       "      <th>CNTRYID</th>\n",
       "      <th>CNT</th>\n",
       "      <th>OECD</th>\n",
       "      <th>LANGTEST_QQQ</th>\n",
       "      <th>LANGTEST_COG</th>\n",
       "      <th>LANGTEST_PAQ</th>\n",
       "      <th>PROGN</th>\n",
       "      <th>LANGN</th>\n",
       "      <th>LANGMOTHER</th>\n",
       "      <th>LANGFATHER</th>\n",
       "      <th>LANGSIBLINGS</th>\n",
       "      <th>LANGFRIEND</th>\n",
       "      <th>LANGSCHMATES</th>\n",
       "      <th>IMMIG</th>\n",
       "    </tr>\n",
       "  </thead>\n",
       "  <tbody>\n",
       "    <tr>\n",
       "      <th>6370</th>\n",
       "      <td>784</td>\n",
       "      <td>ARE</td>\n",
       "      <td>0</td>\n",
       "      <td>500</td>\n",
       "      <td>500</td>\n",
       "      <td></td>\n",
       "      <td>7840002</td>\n",
       "      <td>Arabic</td>\n",
       "      <td>7</td>\n",
       "      <td>7</td>\n",
       "      <td>7</td>\n",
       "      <td>7</td>\n",
       "      <td>7</td>\n",
       "      <td>3</td>\n",
       "    </tr>\n",
       "    <tr>\n",
       "      <th>6377</th>\n",
       "      <td>784</td>\n",
       "      <td>ARE</td>\n",
       "      <td>0</td>\n",
       "      <td>500</td>\n",
       "      <td>500</td>\n",
       "      <td></td>\n",
       "      <td>7840002</td>\n",
       "      <td>Arabic</td>\n",
       "      <td>7</td>\n",
       "      <td>7</td>\n",
       "      <td>7</td>\n",
       "      <td>7</td>\n",
       "      <td>7</td>\n",
       "      <td>2</td>\n",
       "    </tr>\n",
       "    <tr>\n",
       "      <th>6380</th>\n",
       "      <td>784</td>\n",
       "      <td>ARE</td>\n",
       "      <td>0</td>\n",
       "      <td>500</td>\n",
       "      <td>500</td>\n",
       "      <td></td>\n",
       "      <td>7840002</td>\n",
       "      <td>Arabic</td>\n",
       "      <td>7</td>\n",
       "      <td>7</td>\n",
       "      <td>7</td>\n",
       "      <td>7</td>\n",
       "      <td>7</td>\n",
       "      <td>3</td>\n",
       "    </tr>\n",
       "    <tr>\n",
       "      <th>6381</th>\n",
       "      <td>784</td>\n",
       "      <td>ARE</td>\n",
       "      <td>0</td>\n",
       "      <td>500</td>\n",
       "      <td>500</td>\n",
       "      <td></td>\n",
       "      <td>7840002</td>\n",
       "      <td>Arabic</td>\n",
       "      <td>7</td>\n",
       "      <td>7</td>\n",
       "      <td>7</td>\n",
       "      <td>7</td>\n",
       "      <td>7</td>\n",
       "      <td>3</td>\n",
       "    </tr>\n",
       "    <tr>\n",
       "      <th>6382</th>\n",
       "      <td>784</td>\n",
       "      <td>ARE</td>\n",
       "      <td>0</td>\n",
       "      <td>500</td>\n",
       "      <td>500</td>\n",
       "      <td></td>\n",
       "      <td>7840002</td>\n",
       "      <td>Arabic</td>\n",
       "      <td>7</td>\n",
       "      <td>7</td>\n",
       "      <td>7</td>\n",
       "      <td>7</td>\n",
       "      <td>7</td>\n",
       "      <td>2</td>\n",
       "    </tr>\n",
       "    <tr>\n",
       "      <th>...</th>\n",
       "      <td>...</td>\n",
       "      <td>...</td>\n",
       "      <td>...</td>\n",
       "      <td>...</td>\n",
       "      <td>...</td>\n",
       "      <td>...</td>\n",
       "      <td>...</td>\n",
       "      <td>...</td>\n",
       "      <td>...</td>\n",
       "      <td>...</td>\n",
       "      <td>...</td>\n",
       "      <td>...</td>\n",
       "      <td>...</td>\n",
       "      <td>...</td>\n",
       "    </tr>\n",
       "    <tr>\n",
       "      <th>491064</th>\n",
       "      <td>634</td>\n",
       "      <td>QAT</td>\n",
       "      <td>0</td>\n",
       "      <td>313</td>\n",
       "      <td>313</td>\n",
       "      <td></td>\n",
       "      <td>6340004</td>\n",
       "      <td>English</td>\n",
       "      <td>7</td>\n",
       "      <td>7</td>\n",
       "      <td>7</td>\n",
       "      <td>7</td>\n",
       "      <td>7</td>\n",
       "      <td>3</td>\n",
       "    </tr>\n",
       "    <tr>\n",
       "      <th>491066</th>\n",
       "      <td>634</td>\n",
       "      <td>QAT</td>\n",
       "      <td>0</td>\n",
       "      <td>313</td>\n",
       "      <td>313</td>\n",
       "      <td></td>\n",
       "      <td>6340004</td>\n",
       "      <td>Arabic</td>\n",
       "      <td>1</td>\n",
       "      <td>1</td>\n",
       "      <td>1</td>\n",
       "      <td>3</td>\n",
       "      <td>3</td>\n",
       "      <td>3</td>\n",
       "    </tr>\n",
       "    <tr>\n",
       "      <th>491067</th>\n",
       "      <td>634</td>\n",
       "      <td>QAT</td>\n",
       "      <td>0</td>\n",
       "      <td>313</td>\n",
       "      <td>313</td>\n",
       "      <td></td>\n",
       "      <td>6340004</td>\n",
       "      <td>English</td>\n",
       "      <td>7</td>\n",
       "      <td>7</td>\n",
       "      <td>7</td>\n",
       "      <td>7</td>\n",
       "      <td>7</td>\n",
       "      <td>3</td>\n",
       "    </tr>\n",
       "    <tr>\n",
       "      <th>491068</th>\n",
       "      <td>634</td>\n",
       "      <td>QAT</td>\n",
       "      <td>0</td>\n",
       "      <td>313</td>\n",
       "      <td>313</td>\n",
       "      <td></td>\n",
       "      <td>6340004</td>\n",
       "      <td>English</td>\n",
       "      <td>7</td>\n",
       "      <td>7</td>\n",
       "      <td>7</td>\n",
       "      <td>7</td>\n",
       "      <td>7</td>\n",
       "      <td>3</td>\n",
       "    </tr>\n",
       "    <tr>\n",
       "      <th>491070</th>\n",
       "      <td>634</td>\n",
       "      <td>QAT</td>\n",
       "      <td>0</td>\n",
       "      <td>313</td>\n",
       "      <td>313</td>\n",
       "      <td></td>\n",
       "      <td>6340004</td>\n",
       "      <td>English</td>\n",
       "      <td>7</td>\n",
       "      <td>7</td>\n",
       "      <td>7</td>\n",
       "      <td>7</td>\n",
       "      <td>7</td>\n",
       "      <td>3</td>\n",
       "    </tr>\n",
       "  </tbody>\n",
       "</table>\n",
       "<p>34317 rows × 14 columns</p>\n",
       "</div>"
      ],
      "text/plain": [
       "        CNTRYID  CNT  OECD LANGTEST_QQQ  LANGTEST_COG LANGTEST_PAQ    PROGN  \\\n",
       "6370        784  ARE     0          500           500               7840002   \n",
       "6377        784  ARE     0          500           500               7840002   \n",
       "6380        784  ARE     0          500           500               7840002   \n",
       "6381        784  ARE     0          500           500               7840002   \n",
       "6382        784  ARE     0          500           500               7840002   \n",
       "...         ...  ...   ...          ...           ...          ...      ...   \n",
       "491064      634  QAT     0          313           313               6340004   \n",
       "491066      634  QAT     0          313           313               6340004   \n",
       "491067      634  QAT     0          313           313               6340004   \n",
       "491068      634  QAT     0          313           313               6340004   \n",
       "491070      634  QAT     0          313           313               6340004   \n",
       "\n",
       "          LANGN LANGMOTHER LANGFATHER LANGSIBLINGS LANGFRIEND LANGSCHMATES  \\\n",
       "6370     Arabic          7          7            7          7            7   \n",
       "6377     Arabic          7          7            7          7            7   \n",
       "6380     Arabic          7          7            7          7            7   \n",
       "6381     Arabic          7          7            7          7            7   \n",
       "6382     Arabic          7          7            7          7            7   \n",
       "...         ...        ...        ...          ...        ...          ...   \n",
       "491064  English          7          7            7          7            7   \n",
       "491066   Arabic          1          1            1          3            3   \n",
       "491067  English          7          7            7          7            7   \n",
       "491068  English          7          7            7          7            7   \n",
       "491070  English          7          7            7          7            7   \n",
       "\n",
       "        IMMIG  \n",
       "6370        3  \n",
       "6377        2  \n",
       "6380        3  \n",
       "6381        3  \n",
       "6382        2  \n",
       "...       ...  \n",
       "491064      3  \n",
       "491066      3  \n",
       "491067      3  \n",
       "491068      3  \n",
       "491070      3  \n",
       "\n",
       "[34317 rows x 14 columns]"
      ]
     },
     "execution_count": 9,
     "metadata": {},
     "output_type": "execute_result"
    }
   ],
   "source": [
    "qqq_immi.dropna(subset=['LANGN'], inplace=True)\n",
    "qqq_immi"
   ]
  },
  {
   "cell_type": "code",
   "execution_count": 49,
   "metadata": {},
   "outputs": [
    {
     "data": {
      "text/html": [
       "<div>\n",
       "<style scoped>\n",
       "    .dataframe tbody tr th:only-of-type {\n",
       "        vertical-align: middle;\n",
       "    }\n",
       "\n",
       "    .dataframe tbody tr th {\n",
       "        vertical-align: top;\n",
       "    }\n",
       "\n",
       "    .dataframe thead th {\n",
       "        text-align: right;\n",
       "    }\n",
       "</style>\n",
       "<table border=\"1\" class=\"dataframe\">\n",
       "  <thead>\n",
       "    <tr style=\"text-align: right;\">\n",
       "      <th></th>\n",
       "      <th>CNT</th>\n",
       "      <th>LANGN</th>\n",
       "      <th>IMMIG</th>\n",
       "    </tr>\n",
       "  </thead>\n",
       "  <tbody>\n",
       "    <tr>\n",
       "      <th>6370</th>\n",
       "      <td>ARE</td>\n",
       "      <td>Arabic</td>\n",
       "      <td>2nd</td>\n",
       "    </tr>\n",
       "    <tr>\n",
       "      <th>6377</th>\n",
       "      <td>ARE</td>\n",
       "      <td>Arabic</td>\n",
       "      <td>1st</td>\n",
       "    </tr>\n",
       "    <tr>\n",
       "      <th>6380</th>\n",
       "      <td>ARE</td>\n",
       "      <td>Arabic</td>\n",
       "      <td>2nd</td>\n",
       "    </tr>\n",
       "    <tr>\n",
       "      <th>6381</th>\n",
       "      <td>ARE</td>\n",
       "      <td>Arabic</td>\n",
       "      <td>2nd</td>\n",
       "    </tr>\n",
       "    <tr>\n",
       "      <th>6382</th>\n",
       "      <td>ARE</td>\n",
       "      <td>Arabic</td>\n",
       "      <td>1st</td>\n",
       "    </tr>\n",
       "    <tr>\n",
       "      <th>...</th>\n",
       "      <td>...</td>\n",
       "      <td>...</td>\n",
       "      <td>...</td>\n",
       "    </tr>\n",
       "    <tr>\n",
       "      <th>491064</th>\n",
       "      <td>QAT</td>\n",
       "      <td>English</td>\n",
       "      <td>2nd</td>\n",
       "    </tr>\n",
       "    <tr>\n",
       "      <th>491066</th>\n",
       "      <td>QAT</td>\n",
       "      <td>Arabic</td>\n",
       "      <td>2nd</td>\n",
       "    </tr>\n",
       "    <tr>\n",
       "      <th>491067</th>\n",
       "      <td>QAT</td>\n",
       "      <td>English</td>\n",
       "      <td>2nd</td>\n",
       "    </tr>\n",
       "    <tr>\n",
       "      <th>491068</th>\n",
       "      <td>QAT</td>\n",
       "      <td>English</td>\n",
       "      <td>2nd</td>\n",
       "    </tr>\n",
       "    <tr>\n",
       "      <th>491070</th>\n",
       "      <td>QAT</td>\n",
       "      <td>English</td>\n",
       "      <td>2nd</td>\n",
       "    </tr>\n",
       "  </tbody>\n",
       "</table>\n",
       "<p>34317 rows × 3 columns</p>\n",
       "</div>"
      ],
      "text/plain": [
       "        CNT    LANGN IMMIG\n",
       "6370    ARE   Arabic   2nd\n",
       "6377    ARE   Arabic   1st\n",
       "6380    ARE   Arabic   2nd\n",
       "6381    ARE   Arabic   2nd\n",
       "6382    ARE   Arabic   1st\n",
       "...     ...      ...   ...\n",
       "491064  QAT  English   2nd\n",
       "491066  QAT   Arabic   2nd\n",
       "491067  QAT  English   2nd\n",
       "491068  QAT  English   2nd\n",
       "491070  QAT  English   2nd\n",
       "\n",
       "[34317 rows x 3 columns]"
      ]
     },
     "execution_count": 49,
     "metadata": {},
     "output_type": "execute_result"
    }
   ],
   "source": [
    "qqq_immi_f = qqq_immi[[\"CNT\",\"LANGN\",\"IMMIG\"]]\n",
    "qqq_immi_f"
   ]
  },
  {
   "cell_type": "code",
   "execution_count": 10,
   "metadata": {},
   "outputs": [
    {
     "name": "stderr",
     "output_type": "stream",
     "text": [
      "/var/folders/hv/08dyyt957zq3n_n6kttfl_180000gn/T/ipykernel_4115/389089013.py:3: SettingWithCopyWarning: \n",
      "A value is trying to be set on a copy of a slice from a DataFrame\n",
      "\n",
      "See the caveats in the documentation: https://pandas.pydata.org/pandas-docs/stable/user_guide/indexing.html#returning-a-view-versus-a-copy\n",
      "  qqq_immi[\"IMMIG\"].replace(immists_dict, inplace=True)\n"
     ]
    }
   ],
   "source": [
    "immists_dict = {2:\"1st\", 3:\"2nd\"}\n",
    "\n",
    "qqq_immi[\"IMMIG\"].replace(immists_dict, inplace=True)"
   ]
  },
  {
   "cell_type": "code",
   "execution_count": 11,
   "metadata": {},
   "outputs": [],
   "source": [
    "qqq_immi1 = qqq_immi[qqq_immi[\"IMMIG\"] == \"1st\"]\n",
    "qqq_immi2 = qqq_immi[qqq_immi[\"IMMIG\"] == \"2nd\"]"
   ]
  },
  {
   "cell_type": "code",
   "execution_count": 58,
   "metadata": {},
   "outputs": [
    {
     "data": {
      "text/html": [
       "<div>\n",
       "<style scoped>\n",
       "    .dataframe tbody tr th:only-of-type {\n",
       "        vertical-align: middle;\n",
       "    }\n",
       "\n",
       "    .dataframe tbody tr th {\n",
       "        vertical-align: top;\n",
       "    }\n",
       "\n",
       "    .dataframe thead th {\n",
       "        text-align: right;\n",
       "    }\n",
       "</style>\n",
       "<table border=\"1\" class=\"dataframe\">\n",
       "  <thead>\n",
       "    <tr style=\"text-align: right;\">\n",
       "      <th></th>\n",
       "      <th>CNT</th>\n",
       "      <th>LANGN</th>\n",
       "      <th>IMMIG</th>\n",
       "      <th>Count</th>\n",
       "    </tr>\n",
       "  </thead>\n",
       "  <tbody>\n",
       "    <tr>\n",
       "      <th>0</th>\n",
       "      <td>ARE</td>\n",
       "      <td>Another language (ARE)</td>\n",
       "      <td>1st</td>\n",
       "      <td>1079</td>\n",
       "    </tr>\n",
       "    <tr>\n",
       "      <th>1</th>\n",
       "      <td>ARE</td>\n",
       "      <td>Another language (ARE)</td>\n",
       "      <td>2nd</td>\n",
       "      <td>2329</td>\n",
       "    </tr>\n",
       "    <tr>\n",
       "      <th>2</th>\n",
       "      <td>ARE</td>\n",
       "      <td>Arabic</td>\n",
       "      <td>1st</td>\n",
       "      <td>1942</td>\n",
       "    </tr>\n",
       "    <tr>\n",
       "      <th>3</th>\n",
       "      <td>ARE</td>\n",
       "      <td>Arabic</td>\n",
       "      <td>2nd</td>\n",
       "      <td>2057</td>\n",
       "    </tr>\n",
       "    <tr>\n",
       "      <th>4</th>\n",
       "      <td>ARE</td>\n",
       "      <td>English</td>\n",
       "      <td>1st</td>\n",
       "      <td>770</td>\n",
       "    </tr>\n",
       "    <tr>\n",
       "      <th>...</th>\n",
       "      <td>...</td>\n",
       "      <td>...</td>\n",
       "      <td>...</td>\n",
       "      <td>...</td>\n",
       "    </tr>\n",
       "    <tr>\n",
       "      <th>103</th>\n",
       "      <td>QAT</td>\n",
       "      <td>Arabic</td>\n",
       "      <td>2nd</td>\n",
       "      <td>2446</td>\n",
       "    </tr>\n",
       "    <tr>\n",
       "      <th>104</th>\n",
       "      <td>QAT</td>\n",
       "      <td>English</td>\n",
       "      <td>1st</td>\n",
       "      <td>221</td>\n",
       "    </tr>\n",
       "    <tr>\n",
       "      <th>105</th>\n",
       "      <td>QAT</td>\n",
       "      <td>English</td>\n",
       "      <td>2nd</td>\n",
       "      <td>847</td>\n",
       "    </tr>\n",
       "    <tr>\n",
       "      <th>106</th>\n",
       "      <td>QAT</td>\n",
       "      <td>Hindi</td>\n",
       "      <td>1st</td>\n",
       "      <td>97</td>\n",
       "    </tr>\n",
       "    <tr>\n",
       "      <th>107</th>\n",
       "      <td>QAT</td>\n",
       "      <td>Hindi</td>\n",
       "      <td>2nd</td>\n",
       "      <td>210</td>\n",
       "    </tr>\n",
       "  </tbody>\n",
       "</table>\n",
       "<p>108 rows × 4 columns</p>\n",
       "</div>"
      ],
      "text/plain": [
       "     CNT                   LANGN IMMIG  Count\n",
       "0    ARE  Another language (ARE)   1st   1079\n",
       "1    ARE  Another language (ARE)   2nd   2329\n",
       "2    ARE                  Arabic   1st   1942\n",
       "3    ARE                  Arabic   2nd   2057\n",
       "4    ARE                 English   1st    770\n",
       "..   ...                     ...   ...    ...\n",
       "103  QAT                  Arabic   2nd   2446\n",
       "104  QAT                 English   1st    221\n",
       "105  QAT                 English   2nd    847\n",
       "106  QAT                   Hindi   1st     97\n",
       "107  QAT                   Hindi   2nd    210\n",
       "\n",
       "[108 rows x 4 columns]"
      ]
     },
     "execution_count": 58,
     "metadata": {},
     "output_type": "execute_result"
    }
   ],
   "source": [
    "qqq_immi_fp = qqq_immi_f.groupby(['CNT', 'LANGN', 'IMMIG']).size().reset_index(name='Count')\n",
    "\n",
    "# Display the result DataFrame\n",
    "qqq_immi_fp"
   ]
  },
  {
   "cell_type": "code",
   "execution_count": 62,
   "metadata": {},
   "outputs": [],
   "source": [
    "qqq_immi_fp.to_csv(\"count_immi.csv\")"
   ]
  },
  {
   "cell_type": "code",
   "execution_count": 140,
   "metadata": {},
   "outputs": [],
   "source": [
    "qqq_immi_fp1 = qqq_immi_fp[qqq_immi_fp[\"IMMIG\"] == \"1st\"]\n",
    "qqq_immi_fp2 = qqq_immi_fp[qqq_immi_fp[\"IMMIG\"] == \"2nd\"]"
   ]
  },
  {
   "cell_type": "code",
   "execution_count": 117,
   "metadata": {},
   "outputs": [
    {
     "data": {
      "application/vnd.plotly.v1+json": {
       "config": {
        "plotlyServerURL": "https://plot.ly"
       },
       "data": [
        {
         "type": "bar",
         "visible": true,
         "x": [
          "Another language (ARE)",
          "Arabic",
          "English",
          "An Australian Indigenous language",
          "Another language (AUS)",
          "Arabic (including Lebanese)",
          "Cantonese",
          "Greek",
          "Hindi",
          "Italian",
          "Mandarin",
          "Punjabi",
          "Spanish",
          "Vietnamese",
          "Another language (CAN)",
          "French",
          "Albanian",
          "Another language (CHE)",
          "Dialect from Ticino or an Italian Region",
          "German",
          "Portuguese",
          "Raeto'-Romance",
          "South Slav",
          "Swiss German",
          "Turkish",
          "Another language (LUX)",
          "Luxembourgish",
          "Yugoslavian - Serbian, Croatian, etc.",
          "Another language (MAC)",
          "Chinese dialects or languages (MAC)",
          "Another language (NZL)",
          "Chinese",
          "Korean",
          "Maori",
          "Samoan",
          "Another language (QAT)"
         ]
        },
        {
         "type": "bar",
         "visible": true,
         "x": [
          "Another language (ARE)",
          "Arabic",
          "English",
          "An Australian Indigenous language",
          "Another language (AUS)",
          "Arabic (including Lebanese)",
          "Cantonese",
          "Greek",
          "Hindi",
          "Italian",
          "Mandarin",
          "Punjabi",
          "Spanish",
          "Vietnamese",
          "Another language (CAN)",
          "French",
          "Albanian",
          "Another language (CHE)",
          "Dialect from Ticino or an Italian Region",
          "German",
          "Portuguese",
          "Raeto'-Romance",
          "South Slav",
          "Swiss German",
          "Turkish",
          "Another language (LUX)",
          "Luxembourgish",
          "Yugoslavian - Serbian, Croatian, etc.",
          "Another language (MAC)",
          "Chinese dialects or languages (MAC)",
          "Another language (NZL)",
          "Chinese",
          "Korean",
          "Maori",
          "Samoan",
          "Another language (QAT)"
         ]
        }
       ],
       "layout": {
        "showlegend": false,
        "template": {
         "data": {
          "bar": [
           {
            "error_x": {
             "color": "#2a3f5f"
            },
            "error_y": {
             "color": "#2a3f5f"
            },
            "marker": {
             "line": {
              "color": "#E5ECF6",
              "width": 0.5
             },
             "pattern": {
              "fillmode": "overlay",
              "size": 10,
              "solidity": 0.2
             }
            },
            "type": "bar"
           }
          ],
          "barpolar": [
           {
            "marker": {
             "line": {
              "color": "#E5ECF6",
              "width": 0.5
             },
             "pattern": {
              "fillmode": "overlay",
              "size": 10,
              "solidity": 0.2
             }
            },
            "type": "barpolar"
           }
          ],
          "carpet": [
           {
            "aaxis": {
             "endlinecolor": "#2a3f5f",
             "gridcolor": "white",
             "linecolor": "white",
             "minorgridcolor": "white",
             "startlinecolor": "#2a3f5f"
            },
            "baxis": {
             "endlinecolor": "#2a3f5f",
             "gridcolor": "white",
             "linecolor": "white",
             "minorgridcolor": "white",
             "startlinecolor": "#2a3f5f"
            },
            "type": "carpet"
           }
          ],
          "choropleth": [
           {
            "colorbar": {
             "outlinewidth": 0,
             "ticks": ""
            },
            "type": "choropleth"
           }
          ],
          "contour": [
           {
            "colorbar": {
             "outlinewidth": 0,
             "ticks": ""
            },
            "colorscale": [
             [
              0,
              "#0d0887"
             ],
             [
              0.1111111111111111,
              "#46039f"
             ],
             [
              0.2222222222222222,
              "#7201a8"
             ],
             [
              0.3333333333333333,
              "#9c179e"
             ],
             [
              0.4444444444444444,
              "#bd3786"
             ],
             [
              0.5555555555555556,
              "#d8576b"
             ],
             [
              0.6666666666666666,
              "#ed7953"
             ],
             [
              0.7777777777777778,
              "#fb9f3a"
             ],
             [
              0.8888888888888888,
              "#fdca26"
             ],
             [
              1,
              "#f0f921"
             ]
            ],
            "type": "contour"
           }
          ],
          "contourcarpet": [
           {
            "colorbar": {
             "outlinewidth": 0,
             "ticks": ""
            },
            "type": "contourcarpet"
           }
          ],
          "heatmap": [
           {
            "colorbar": {
             "outlinewidth": 0,
             "ticks": ""
            },
            "colorscale": [
             [
              0,
              "#0d0887"
             ],
             [
              0.1111111111111111,
              "#46039f"
             ],
             [
              0.2222222222222222,
              "#7201a8"
             ],
             [
              0.3333333333333333,
              "#9c179e"
             ],
             [
              0.4444444444444444,
              "#bd3786"
             ],
             [
              0.5555555555555556,
              "#d8576b"
             ],
             [
              0.6666666666666666,
              "#ed7953"
             ],
             [
              0.7777777777777778,
              "#fb9f3a"
             ],
             [
              0.8888888888888888,
              "#fdca26"
             ],
             [
              1,
              "#f0f921"
             ]
            ],
            "type": "heatmap"
           }
          ],
          "heatmapgl": [
           {
            "colorbar": {
             "outlinewidth": 0,
             "ticks": ""
            },
            "colorscale": [
             [
              0,
              "#0d0887"
             ],
             [
              0.1111111111111111,
              "#46039f"
             ],
             [
              0.2222222222222222,
              "#7201a8"
             ],
             [
              0.3333333333333333,
              "#9c179e"
             ],
             [
              0.4444444444444444,
              "#bd3786"
             ],
             [
              0.5555555555555556,
              "#d8576b"
             ],
             [
              0.6666666666666666,
              "#ed7953"
             ],
             [
              0.7777777777777778,
              "#fb9f3a"
             ],
             [
              0.8888888888888888,
              "#fdca26"
             ],
             [
              1,
              "#f0f921"
             ]
            ],
            "type": "heatmapgl"
           }
          ],
          "histogram": [
           {
            "marker": {
             "pattern": {
              "fillmode": "overlay",
              "size": 10,
              "solidity": 0.2
             }
            },
            "type": "histogram"
           }
          ],
          "histogram2d": [
           {
            "colorbar": {
             "outlinewidth": 0,
             "ticks": ""
            },
            "colorscale": [
             [
              0,
              "#0d0887"
             ],
             [
              0.1111111111111111,
              "#46039f"
             ],
             [
              0.2222222222222222,
              "#7201a8"
             ],
             [
              0.3333333333333333,
              "#9c179e"
             ],
             [
              0.4444444444444444,
              "#bd3786"
             ],
             [
              0.5555555555555556,
              "#d8576b"
             ],
             [
              0.6666666666666666,
              "#ed7953"
             ],
             [
              0.7777777777777778,
              "#fb9f3a"
             ],
             [
              0.8888888888888888,
              "#fdca26"
             ],
             [
              1,
              "#f0f921"
             ]
            ],
            "type": "histogram2d"
           }
          ],
          "histogram2dcontour": [
           {
            "colorbar": {
             "outlinewidth": 0,
             "ticks": ""
            },
            "colorscale": [
             [
              0,
              "#0d0887"
             ],
             [
              0.1111111111111111,
              "#46039f"
             ],
             [
              0.2222222222222222,
              "#7201a8"
             ],
             [
              0.3333333333333333,
              "#9c179e"
             ],
             [
              0.4444444444444444,
              "#bd3786"
             ],
             [
              0.5555555555555556,
              "#d8576b"
             ],
             [
              0.6666666666666666,
              "#ed7953"
             ],
             [
              0.7777777777777778,
              "#fb9f3a"
             ],
             [
              0.8888888888888888,
              "#fdca26"
             ],
             [
              1,
              "#f0f921"
             ]
            ],
            "type": "histogram2dcontour"
           }
          ],
          "mesh3d": [
           {
            "colorbar": {
             "outlinewidth": 0,
             "ticks": ""
            },
            "type": "mesh3d"
           }
          ],
          "parcoords": [
           {
            "line": {
             "colorbar": {
              "outlinewidth": 0,
              "ticks": ""
             }
            },
            "type": "parcoords"
           }
          ],
          "pie": [
           {
            "automargin": true,
            "type": "pie"
           }
          ],
          "scatter": [
           {
            "fillpattern": {
             "fillmode": "overlay",
             "size": 10,
             "solidity": 0.2
            },
            "type": "scatter"
           }
          ],
          "scatter3d": [
           {
            "line": {
             "colorbar": {
              "outlinewidth": 0,
              "ticks": ""
             }
            },
            "marker": {
             "colorbar": {
              "outlinewidth": 0,
              "ticks": ""
             }
            },
            "type": "scatter3d"
           }
          ],
          "scattercarpet": [
           {
            "marker": {
             "colorbar": {
              "outlinewidth": 0,
              "ticks": ""
             }
            },
            "type": "scattercarpet"
           }
          ],
          "scattergeo": [
           {
            "marker": {
             "colorbar": {
              "outlinewidth": 0,
              "ticks": ""
             }
            },
            "type": "scattergeo"
           }
          ],
          "scattergl": [
           {
            "marker": {
             "colorbar": {
              "outlinewidth": 0,
              "ticks": ""
             }
            },
            "type": "scattergl"
           }
          ],
          "scattermapbox": [
           {
            "marker": {
             "colorbar": {
              "outlinewidth": 0,
              "ticks": ""
             }
            },
            "type": "scattermapbox"
           }
          ],
          "scatterpolar": [
           {
            "marker": {
             "colorbar": {
              "outlinewidth": 0,
              "ticks": ""
             }
            },
            "type": "scatterpolar"
           }
          ],
          "scatterpolargl": [
           {
            "marker": {
             "colorbar": {
              "outlinewidth": 0,
              "ticks": ""
             }
            },
            "type": "scatterpolargl"
           }
          ],
          "scatterternary": [
           {
            "marker": {
             "colorbar": {
              "outlinewidth": 0,
              "ticks": ""
             }
            },
            "type": "scatterternary"
           }
          ],
          "surface": [
           {
            "colorbar": {
             "outlinewidth": 0,
             "ticks": ""
            },
            "colorscale": [
             [
              0,
              "#0d0887"
             ],
             [
              0.1111111111111111,
              "#46039f"
             ],
             [
              0.2222222222222222,
              "#7201a8"
             ],
             [
              0.3333333333333333,
              "#9c179e"
             ],
             [
              0.4444444444444444,
              "#bd3786"
             ],
             [
              0.5555555555555556,
              "#d8576b"
             ],
             [
              0.6666666666666666,
              "#ed7953"
             ],
             [
              0.7777777777777778,
              "#fb9f3a"
             ],
             [
              0.8888888888888888,
              "#fdca26"
             ],
             [
              1,
              "#f0f921"
             ]
            ],
            "type": "surface"
           }
          ],
          "table": [
           {
            "cells": {
             "fill": {
              "color": "#EBF0F8"
             },
             "line": {
              "color": "white"
             }
            },
            "header": {
             "fill": {
              "color": "#C8D4E3"
             },
             "line": {
              "color": "white"
             }
            },
            "type": "table"
           }
          ]
         },
         "layout": {
          "annotationdefaults": {
           "arrowcolor": "#2a3f5f",
           "arrowhead": 0,
           "arrowwidth": 1
          },
          "autotypenumbers": "strict",
          "coloraxis": {
           "colorbar": {
            "outlinewidth": 0,
            "ticks": ""
           }
          },
          "colorscale": {
           "diverging": [
            [
             0,
             "#8e0152"
            ],
            [
             0.1,
             "#c51b7d"
            ],
            [
             0.2,
             "#de77ae"
            ],
            [
             0.3,
             "#f1b6da"
            ],
            [
             0.4,
             "#fde0ef"
            ],
            [
             0.5,
             "#f7f7f7"
            ],
            [
             0.6,
             "#e6f5d0"
            ],
            [
             0.7,
             "#b8e186"
            ],
            [
             0.8,
             "#7fbc41"
            ],
            [
             0.9,
             "#4d9221"
            ],
            [
             1,
             "#276419"
            ]
           ],
           "sequential": [
            [
             0,
             "#0d0887"
            ],
            [
             0.1111111111111111,
             "#46039f"
            ],
            [
             0.2222222222222222,
             "#7201a8"
            ],
            [
             0.3333333333333333,
             "#9c179e"
            ],
            [
             0.4444444444444444,
             "#bd3786"
            ],
            [
             0.5555555555555556,
             "#d8576b"
            ],
            [
             0.6666666666666666,
             "#ed7953"
            ],
            [
             0.7777777777777778,
             "#fb9f3a"
            ],
            [
             0.8888888888888888,
             "#fdca26"
            ],
            [
             1,
             "#f0f921"
            ]
           ],
           "sequentialminus": [
            [
             0,
             "#0d0887"
            ],
            [
             0.1111111111111111,
             "#46039f"
            ],
            [
             0.2222222222222222,
             "#7201a8"
            ],
            [
             0.3333333333333333,
             "#9c179e"
            ],
            [
             0.4444444444444444,
             "#bd3786"
            ],
            [
             0.5555555555555556,
             "#d8576b"
            ],
            [
             0.6666666666666666,
             "#ed7953"
            ],
            [
             0.7777777777777778,
             "#fb9f3a"
            ],
            [
             0.8888888888888888,
             "#fdca26"
            ],
            [
             1,
             "#f0f921"
            ]
           ]
          },
          "colorway": [
           "#636efa",
           "#EF553B",
           "#00cc96",
           "#ab63fa",
           "#FFA15A",
           "#19d3f3",
           "#FF6692",
           "#B6E880",
           "#FF97FF",
           "#FECB52"
          ],
          "font": {
           "color": "#2a3f5f"
          },
          "geo": {
           "bgcolor": "white",
           "lakecolor": "white",
           "landcolor": "#E5ECF6",
           "showlakes": true,
           "showland": true,
           "subunitcolor": "white"
          },
          "hoverlabel": {
           "align": "left"
          },
          "hovermode": "closest",
          "mapbox": {
           "style": "light"
          },
          "paper_bgcolor": "white",
          "plot_bgcolor": "#E5ECF6",
          "polar": {
           "angularaxis": {
            "gridcolor": "white",
            "linecolor": "white",
            "ticks": ""
           },
           "bgcolor": "#E5ECF6",
           "radialaxis": {
            "gridcolor": "white",
            "linecolor": "white",
            "ticks": ""
           }
          },
          "scene": {
           "xaxis": {
            "backgroundcolor": "#E5ECF6",
            "gridcolor": "white",
            "gridwidth": 2,
            "linecolor": "white",
            "showbackground": true,
            "ticks": "",
            "zerolinecolor": "white"
           },
           "yaxis": {
            "backgroundcolor": "#E5ECF6",
            "gridcolor": "white",
            "gridwidth": 2,
            "linecolor": "white",
            "showbackground": true,
            "ticks": "",
            "zerolinecolor": "white"
           },
           "zaxis": {
            "backgroundcolor": "#E5ECF6",
            "gridcolor": "white",
            "gridwidth": 2,
            "linecolor": "white",
            "showbackground": true,
            "ticks": "",
            "zerolinecolor": "white"
           }
          },
          "shapedefaults": {
           "line": {
            "color": "#2a3f5f"
           }
          },
          "ternary": {
           "aaxis": {
            "gridcolor": "white",
            "linecolor": "white",
            "ticks": ""
           },
           "baxis": {
            "gridcolor": "white",
            "linecolor": "white",
            "ticks": ""
           },
           "bgcolor": "#E5ECF6",
           "caxis": {
            "gridcolor": "white",
            "linecolor": "white",
            "ticks": ""
           }
          },
          "title": {
           "x": 0.05
          },
          "xaxis": {
           "automargin": true,
           "gridcolor": "white",
           "linecolor": "white",
           "ticks": "",
           "title": {
            "standoff": 15
           },
           "zerolinecolor": "white",
           "zerolinewidth": 2
          },
          "yaxis": {
           "automargin": true,
           "gridcolor": "white",
           "linecolor": "white",
           "ticks": "",
           "title": {
            "standoff": 15
           },
           "zerolinecolor": "white",
           "zerolinewidth": 2
          }
         }
        },
        "updatemenus": [
         {
          "buttons": [
           {
            "args": [
             {
              "y": [
               [
                1079,
                1942,
                770
               ],
               [
                2329,
                2057,
                1315
               ]
              ]
             }
            ],
            "label": "ARE",
            "method": "update",
            "visible": true
           },
           {
            "args": [
             {
              "y": [
               [
                2,
                215,
                49,
                50,
                1062,
                3,
                18,
                7,
                48,
                9,
                16,
                70
               ],
               [
                4,
                537,
                39,
                25,
                929,
                5,
                41,
                6,
                101,
                26,
                11,
                42
               ]
              ]
             }
            ],
            "label": "AUS",
            "method": "update",
            "visible": true
           },
           {
            "args": [
             {
              "y": [
               [
                843,
                1382,
                224
               ],
               [
                1942,
                841,
                285
               ]
              ]
             }
            ],
            "label": "CAN",
            "method": "update",
            "visible": true
           },
           {
            "args": [
             {
              "y": [
               [
                210,
                134,
                1,
                24,
                218,
                53,
                156,
                79,
                2,
                151,
                18,
                140,
                47
               ],
               [
                51,
                133,
                5,
                32,
                60,
                85,
                95,
                132,
                null,
                30,
                31,
                23,
                11
               ]
              ]
             }
            ],
            "label": "CHE",
            "method": "update",
            "visible": true
           },
           {
            "args": [
             {
              "y": [
               [
                160,
                76,
                316,
                58,
                24,
                186,
                538,
                189
               ],
               [
                266,
                82,
                240,
                59,
                44,
                29,
                475,
                51
               ]
              ]
             }
            ],
            "label": "LUX",
            "method": "update",
            "visible": true
           },
           {
            "args": [
             {
              "y": [
               [
                31,
                1201,
                55,
                38,
                37,
                14
               ],
               [
                38,
                539,
                179,
                37,
                166,
                14
               ]
              ]
             }
            ],
            "label": "MAC",
            "method": "update",
            "visible": true
           },
           {
            "args": [
             {
              "y": [
               [
                146,
                74,
                437,
                15,
                null,
                24
               ],
               [
                295,
                89,
                413,
                31,
                2,
                31
               ]
              ]
             }
            ],
            "label": "NZL",
            "method": "update",
            "visible": true
           },
           {
            "args": [
             {
              "y": [
               [
                502,
                1384,
                221,
                97
               ],
               [
                1666,
                2446,
                847,
                210
               ]
              ]
             }
            ],
            "label": "QAT",
            "method": "update",
            "visible": true
           }
          ],
          "direction": "down",
          "showactive": true
         },
         {
          "buttons": [
           {
            "args": [
             {
              "visible": [
               true,
               true
              ]
             }
            ],
            "label": "All",
            "method": "update"
           },
           {
            "args": [
             {
              "visible": [
               true,
               false
              ]
             }
            ],
            "label": "1st",
            "method": "update"
           },
           {
            "args": [
             {
              "visible": [
               false,
               true
              ]
             }
            ],
            "label": "2nd",
            "method": "update"
           }
          ],
          "y": 0.6
         }
        ]
       }
      }
     },
     "metadata": {},
     "output_type": "display_data"
    }
   ],
   "source": [
    "import plotly.graph_objs as go\n",
    "# split df by names\n",
    "cnt = qqq_immi_fp['CNT'].unique().tolist()\n",
    "lang = qqq_immi_fp['LANGN'].unique().tolist()\n",
    "\n",
    "dfs = {}\n",
    "\n",
    "# dataframe collection grouped by names\n",
    "for name in cnt:\n",
    "    #print(name)\n",
    "    dfs[name]=pd.pivot_table(qqq_immi_fp[qqq_immi_fp['CNT']==name],\n",
    "                             values='Count',\n",
    "                             index=['LANGN'],\n",
    "                             columns=['IMMIG'],\n",
    "                             aggfunc=np.sum)\n",
    "\n",
    "# plotly start \n",
    "fig = go.Figure()\n",
    "\n",
    "# get column names from first dataframe in the dict\n",
    "colNames = list(dfs[list(dfs.keys())[0]].columns)\n",
    "#xValues=\n",
    "\n",
    "# one trace for each column per dataframe: AI and RANDOM\n",
    "\n",
    "\n",
    "for col in colNames:\n",
    "    fig.add_trace(go.Bar(x=lang,\n",
    "                             visible=True,\n",
    "                             #name=col\n",
    "                  )\n",
    "             )\n",
    "\n",
    "'''\n",
    "\n",
    "for col in cnt:\n",
    "    fig.add_trace(go.Bar(x=qqq_immi_fp.loc[qqq_immi_fp['CNT'] == col]['LANGN'].unique().tolist(), visible=True))\n",
    "'''\n",
    "# menu setup    \n",
    "updatemenu= []\n",
    "\n",
    "# buttons for menu 1, names\n",
    "buttons=[]\n",
    "\n",
    "# create traces for each Reason: AI or RANDOM\n",
    "\n",
    "\n",
    "for df in dfs.keys():\n",
    "    #fig.add_trace(go.Bar(x=qqq_immi_fp.loc[qqq_immi_fp['CNT'] == df]['LANGN'].unique().tolist(), visible=True))\n",
    "    buttons.append(dict(method='update',\n",
    "                        label=df,\n",
    "                        visible=True,\n",
    "                        args=[#{'visible':True},\n",
    "                              #{'x':[dfs[df]['1st'].values, dfs[df]['2nd'].values]},\n",
    "                              #{'x':[dfs[df]['1st'].index, dfs[df]['2nd'].index]},\n",
    "                              {'y':[dfs[df]['1st'].values, dfs[df]['2nd'].values]}\n",
    "                            ])\n",
    "                  )\n",
    "\n",
    "\n",
    "# buttons for menu 2, reasons\n",
    "b2_labels = colNames\n",
    "\n",
    "# matrix too feed all visible arguments for all traces\n",
    "# so that they can be shown or hidden by choice\n",
    "b2_show = [list(b) for b in [e==1 for e in np.eye(len(b2_labels))]]\n",
    "buttons2=[]\n",
    "buttons2.append({'method': 'update',\n",
    "                 'label': 'All',\n",
    "                 'args': [{'visible': [True]*len(colNames)}]})\n",
    "\n",
    "# create buttons to show or hide\n",
    "for i in range(0, len(b2_labels)):\n",
    "    buttons2.append(dict(method='update',\n",
    "                        label=b2_labels[i],\n",
    "                        args=[{'visible':b2_show[i]}]\n",
    "                        )\n",
    "                   )\n",
    "\n",
    "\n",
    "# some adjustments to the updatemenus\n",
    "updatemenu=[]\n",
    "your_menu=dict()\n",
    "updatemenu.append(your_menu)\n",
    "your_menu2=dict()\n",
    "updatemenu.append(your_menu2)\n",
    "updatemenu[1]\n",
    "updatemenu[0]['buttons']=buttons\n",
    "updatemenu[0]['direction']='down'\n",
    "updatemenu[0]['showactive']=True\n",
    "updatemenu[1]['buttons']=buttons2\n",
    "updatemenu[1]['y']=0.6\n",
    "\n",
    "fig.update_layout(showlegend=False, updatemenus=updatemenu)\n",
    "fig.show()"
   ]
  },
  {
   "cell_type": "code",
   "execution_count": 127,
   "metadata": {},
   "outputs": [
    {
     "data": {
      "text/plain": [
       "array(['ARE', 'AUS', 'CAN', 'CHE', 'LUX', 'MAC', 'NZL', 'QAT'],\n",
       "      dtype=object)"
      ]
     },
     "execution_count": 127,
     "metadata": {},
     "output_type": "execute_result"
    }
   ],
   "source": [
    "qqq_immi_fp[\"CNT\"].unique()"
   ]
  },
  {
   "cell_type": "code",
   "execution_count": 131,
   "metadata": {},
   "outputs": [
    {
     "data": {
      "application/vnd.plotly.v1+json": {
       "config": {
        "plotlyServerURL": "https://plot.ly"
       },
       "data": [
        {
         "alignmentgroup": "True",
         "hovertemplate": "IMMIG=1st<br>LANGN=%{x}<br>Count=%{y}<extra></extra>",
         "legendgroup": "1st",
         "marker": {
          "color": "#636efa",
          "pattern": {
           "shape": ""
          }
         },
         "name": "1st",
         "offsetgroup": "1st",
         "orientation": "v",
         "showlegend": true,
         "textposition": "auto",
         "type": "bar",
         "x": [
          "Another language (ARE)",
          "Arabic",
          "English",
          "An Australian Indigenous language",
          "Another language (AUS)",
          "Arabic (including Lebanese)",
          "Cantonese",
          "English",
          "Greek",
          "Hindi",
          "Italian",
          "Mandarin",
          "Punjabi",
          "Spanish",
          "Vietnamese",
          "Another language (CAN)",
          "English",
          "French",
          "Albanian",
          "Another language (CHE)",
          "Dialect from Ticino or an Italian Region",
          "English",
          "French",
          "German",
          "Italian",
          "Portuguese",
          "Raeto'-Romance",
          "South Slav",
          "Spanish",
          "Swiss German",
          "Turkish",
          "Another language (LUX)",
          "English",
          "French",
          "German",
          "Italian",
          "Luxembourgish",
          "Portuguese",
          "Yugoslavian - Serbian, Croatian, etc.",
          "Another language (MAC)",
          "Cantonese",
          "Chinese dialects or languages (MAC)",
          "English",
          "Mandarin",
          "Portuguese",
          "Another language (NZL)",
          "Chinese",
          "English",
          "Korean",
          "Samoan",
          "Another language (QAT)",
          "Arabic",
          "English",
          "Hindi"
         ],
         "xaxis": "x",
         "y": [
          1079,
          1942,
          770,
          2,
          215,
          49,
          50,
          1062,
          3,
          18,
          7,
          48,
          9,
          16,
          70,
          843,
          1382,
          224,
          210,
          134,
          1,
          24,
          218,
          53,
          156,
          79,
          2,
          151,
          18,
          140,
          47,
          160,
          76,
          316,
          58,
          24,
          186,
          538,
          189,
          31,
          1201,
          55,
          38,
          37,
          14,
          146,
          74,
          437,
          15,
          24,
          502,
          1384,
          221,
          97
         ],
         "yaxis": "y"
        },
        {
         "alignmentgroup": "True",
         "hovertemplate": "IMMIG=2nd<br>LANGN=%{x}<br>Count=%{y}<extra></extra>",
         "legendgroup": "2nd",
         "marker": {
          "color": "#EF553B",
          "pattern": {
           "shape": ""
          }
         },
         "name": "2nd",
         "offsetgroup": "2nd",
         "orientation": "v",
         "showlegend": true,
         "textposition": "auto",
         "type": "bar",
         "x": [
          "Another language (ARE)",
          "Arabic",
          "English",
          "An Australian Indigenous language",
          "Another language (AUS)",
          "Arabic (including Lebanese)",
          "Cantonese",
          "English",
          "Greek",
          "Hindi",
          "Italian",
          "Mandarin",
          "Punjabi",
          "Spanish",
          "Vietnamese",
          "Another language (CAN)",
          "English",
          "French",
          "Albanian",
          "Another language (CHE)",
          "Dialect from Ticino or an Italian Region",
          "English",
          "French",
          "German",
          "Italian",
          "Portuguese",
          "South Slav",
          "Spanish",
          "Swiss German",
          "Turkish",
          "Another language (LUX)",
          "English",
          "French",
          "German",
          "Italian",
          "Luxembourgish",
          "Portuguese",
          "Yugoslavian - Serbian, Croatian, etc.",
          "Another language (MAC)",
          "Cantonese",
          "Chinese dialects or languages (MAC)",
          "English",
          "Mandarin",
          "Portuguese",
          "Another language (NZL)",
          "Chinese",
          "English",
          "Korean",
          "Maori",
          "Samoan",
          "Another language (QAT)",
          "Arabic",
          "English",
          "Hindi"
         ],
         "xaxis": "x",
         "y": [
          2329,
          2057,
          1315,
          4,
          537,
          39,
          25,
          929,
          5,
          41,
          6,
          101,
          26,
          11,
          42,
          1942,
          841,
          285,
          51,
          133,
          5,
          32,
          60,
          85,
          95,
          132,
          30,
          31,
          23,
          11,
          266,
          82,
          240,
          59,
          44,
          29,
          475,
          51,
          38,
          539,
          179,
          37,
          166,
          14,
          295,
          89,
          413,
          31,
          2,
          31,
          1666,
          2446,
          847,
          210
         ],
         "yaxis": "y"
        }
       ],
       "layout": {
        "barmode": "group",
        "legend": {
         "title": {
          "text": "IMMIG"
         },
         "tracegroupgap": 0
        },
        "margin": {
         "t": 60
        },
        "template": {
         "data": {
          "bar": [
           {
            "error_x": {
             "color": "#2a3f5f"
            },
            "error_y": {
             "color": "#2a3f5f"
            },
            "marker": {
             "line": {
              "color": "#E5ECF6",
              "width": 0.5
             },
             "pattern": {
              "fillmode": "overlay",
              "size": 10,
              "solidity": 0.2
             }
            },
            "type": "bar"
           }
          ],
          "barpolar": [
           {
            "marker": {
             "line": {
              "color": "#E5ECF6",
              "width": 0.5
             },
             "pattern": {
              "fillmode": "overlay",
              "size": 10,
              "solidity": 0.2
             }
            },
            "type": "barpolar"
           }
          ],
          "carpet": [
           {
            "aaxis": {
             "endlinecolor": "#2a3f5f",
             "gridcolor": "white",
             "linecolor": "white",
             "minorgridcolor": "white",
             "startlinecolor": "#2a3f5f"
            },
            "baxis": {
             "endlinecolor": "#2a3f5f",
             "gridcolor": "white",
             "linecolor": "white",
             "minorgridcolor": "white",
             "startlinecolor": "#2a3f5f"
            },
            "type": "carpet"
           }
          ],
          "choropleth": [
           {
            "colorbar": {
             "outlinewidth": 0,
             "ticks": ""
            },
            "type": "choropleth"
           }
          ],
          "contour": [
           {
            "colorbar": {
             "outlinewidth": 0,
             "ticks": ""
            },
            "colorscale": [
             [
              0,
              "#0d0887"
             ],
             [
              0.1111111111111111,
              "#46039f"
             ],
             [
              0.2222222222222222,
              "#7201a8"
             ],
             [
              0.3333333333333333,
              "#9c179e"
             ],
             [
              0.4444444444444444,
              "#bd3786"
             ],
             [
              0.5555555555555556,
              "#d8576b"
             ],
             [
              0.6666666666666666,
              "#ed7953"
             ],
             [
              0.7777777777777778,
              "#fb9f3a"
             ],
             [
              0.8888888888888888,
              "#fdca26"
             ],
             [
              1,
              "#f0f921"
             ]
            ],
            "type": "contour"
           }
          ],
          "contourcarpet": [
           {
            "colorbar": {
             "outlinewidth": 0,
             "ticks": ""
            },
            "type": "contourcarpet"
           }
          ],
          "heatmap": [
           {
            "colorbar": {
             "outlinewidth": 0,
             "ticks": ""
            },
            "colorscale": [
             [
              0,
              "#0d0887"
             ],
             [
              0.1111111111111111,
              "#46039f"
             ],
             [
              0.2222222222222222,
              "#7201a8"
             ],
             [
              0.3333333333333333,
              "#9c179e"
             ],
             [
              0.4444444444444444,
              "#bd3786"
             ],
             [
              0.5555555555555556,
              "#d8576b"
             ],
             [
              0.6666666666666666,
              "#ed7953"
             ],
             [
              0.7777777777777778,
              "#fb9f3a"
             ],
             [
              0.8888888888888888,
              "#fdca26"
             ],
             [
              1,
              "#f0f921"
             ]
            ],
            "type": "heatmap"
           }
          ],
          "heatmapgl": [
           {
            "colorbar": {
             "outlinewidth": 0,
             "ticks": ""
            },
            "colorscale": [
             [
              0,
              "#0d0887"
             ],
             [
              0.1111111111111111,
              "#46039f"
             ],
             [
              0.2222222222222222,
              "#7201a8"
             ],
             [
              0.3333333333333333,
              "#9c179e"
             ],
             [
              0.4444444444444444,
              "#bd3786"
             ],
             [
              0.5555555555555556,
              "#d8576b"
             ],
             [
              0.6666666666666666,
              "#ed7953"
             ],
             [
              0.7777777777777778,
              "#fb9f3a"
             ],
             [
              0.8888888888888888,
              "#fdca26"
             ],
             [
              1,
              "#f0f921"
             ]
            ],
            "type": "heatmapgl"
           }
          ],
          "histogram": [
           {
            "marker": {
             "pattern": {
              "fillmode": "overlay",
              "size": 10,
              "solidity": 0.2
             }
            },
            "type": "histogram"
           }
          ],
          "histogram2d": [
           {
            "colorbar": {
             "outlinewidth": 0,
             "ticks": ""
            },
            "colorscale": [
             [
              0,
              "#0d0887"
             ],
             [
              0.1111111111111111,
              "#46039f"
             ],
             [
              0.2222222222222222,
              "#7201a8"
             ],
             [
              0.3333333333333333,
              "#9c179e"
             ],
             [
              0.4444444444444444,
              "#bd3786"
             ],
             [
              0.5555555555555556,
              "#d8576b"
             ],
             [
              0.6666666666666666,
              "#ed7953"
             ],
             [
              0.7777777777777778,
              "#fb9f3a"
             ],
             [
              0.8888888888888888,
              "#fdca26"
             ],
             [
              1,
              "#f0f921"
             ]
            ],
            "type": "histogram2d"
           }
          ],
          "histogram2dcontour": [
           {
            "colorbar": {
             "outlinewidth": 0,
             "ticks": ""
            },
            "colorscale": [
             [
              0,
              "#0d0887"
             ],
             [
              0.1111111111111111,
              "#46039f"
             ],
             [
              0.2222222222222222,
              "#7201a8"
             ],
             [
              0.3333333333333333,
              "#9c179e"
             ],
             [
              0.4444444444444444,
              "#bd3786"
             ],
             [
              0.5555555555555556,
              "#d8576b"
             ],
             [
              0.6666666666666666,
              "#ed7953"
             ],
             [
              0.7777777777777778,
              "#fb9f3a"
             ],
             [
              0.8888888888888888,
              "#fdca26"
             ],
             [
              1,
              "#f0f921"
             ]
            ],
            "type": "histogram2dcontour"
           }
          ],
          "mesh3d": [
           {
            "colorbar": {
             "outlinewidth": 0,
             "ticks": ""
            },
            "type": "mesh3d"
           }
          ],
          "parcoords": [
           {
            "line": {
             "colorbar": {
              "outlinewidth": 0,
              "ticks": ""
             }
            },
            "type": "parcoords"
           }
          ],
          "pie": [
           {
            "automargin": true,
            "type": "pie"
           }
          ],
          "scatter": [
           {
            "fillpattern": {
             "fillmode": "overlay",
             "size": 10,
             "solidity": 0.2
            },
            "type": "scatter"
           }
          ],
          "scatter3d": [
           {
            "line": {
             "colorbar": {
              "outlinewidth": 0,
              "ticks": ""
             }
            },
            "marker": {
             "colorbar": {
              "outlinewidth": 0,
              "ticks": ""
             }
            },
            "type": "scatter3d"
           }
          ],
          "scattercarpet": [
           {
            "marker": {
             "colorbar": {
              "outlinewidth": 0,
              "ticks": ""
             }
            },
            "type": "scattercarpet"
           }
          ],
          "scattergeo": [
           {
            "marker": {
             "colorbar": {
              "outlinewidth": 0,
              "ticks": ""
             }
            },
            "type": "scattergeo"
           }
          ],
          "scattergl": [
           {
            "marker": {
             "colorbar": {
              "outlinewidth": 0,
              "ticks": ""
             }
            },
            "type": "scattergl"
           }
          ],
          "scattermapbox": [
           {
            "marker": {
             "colorbar": {
              "outlinewidth": 0,
              "ticks": ""
             }
            },
            "type": "scattermapbox"
           }
          ],
          "scatterpolar": [
           {
            "marker": {
             "colorbar": {
              "outlinewidth": 0,
              "ticks": ""
             }
            },
            "type": "scatterpolar"
           }
          ],
          "scatterpolargl": [
           {
            "marker": {
             "colorbar": {
              "outlinewidth": 0,
              "ticks": ""
             }
            },
            "type": "scatterpolargl"
           }
          ],
          "scatterternary": [
           {
            "marker": {
             "colorbar": {
              "outlinewidth": 0,
              "ticks": ""
             }
            },
            "type": "scatterternary"
           }
          ],
          "surface": [
           {
            "colorbar": {
             "outlinewidth": 0,
             "ticks": ""
            },
            "colorscale": [
             [
              0,
              "#0d0887"
             ],
             [
              0.1111111111111111,
              "#46039f"
             ],
             [
              0.2222222222222222,
              "#7201a8"
             ],
             [
              0.3333333333333333,
              "#9c179e"
             ],
             [
              0.4444444444444444,
              "#bd3786"
             ],
             [
              0.5555555555555556,
              "#d8576b"
             ],
             [
              0.6666666666666666,
              "#ed7953"
             ],
             [
              0.7777777777777778,
              "#fb9f3a"
             ],
             [
              0.8888888888888888,
              "#fdca26"
             ],
             [
              1,
              "#f0f921"
             ]
            ],
            "type": "surface"
           }
          ],
          "table": [
           {
            "cells": {
             "fill": {
              "color": "#EBF0F8"
             },
             "line": {
              "color": "white"
             }
            },
            "header": {
             "fill": {
              "color": "#C8D4E3"
             },
             "line": {
              "color": "white"
             }
            },
            "type": "table"
           }
          ]
         },
         "layout": {
          "annotationdefaults": {
           "arrowcolor": "#2a3f5f",
           "arrowhead": 0,
           "arrowwidth": 1
          },
          "autotypenumbers": "strict",
          "coloraxis": {
           "colorbar": {
            "outlinewidth": 0,
            "ticks": ""
           }
          },
          "colorscale": {
           "diverging": [
            [
             0,
             "#8e0152"
            ],
            [
             0.1,
             "#c51b7d"
            ],
            [
             0.2,
             "#de77ae"
            ],
            [
             0.3,
             "#f1b6da"
            ],
            [
             0.4,
             "#fde0ef"
            ],
            [
             0.5,
             "#f7f7f7"
            ],
            [
             0.6,
             "#e6f5d0"
            ],
            [
             0.7,
             "#b8e186"
            ],
            [
             0.8,
             "#7fbc41"
            ],
            [
             0.9,
             "#4d9221"
            ],
            [
             1,
             "#276419"
            ]
           ],
           "sequential": [
            [
             0,
             "#0d0887"
            ],
            [
             0.1111111111111111,
             "#46039f"
            ],
            [
             0.2222222222222222,
             "#7201a8"
            ],
            [
             0.3333333333333333,
             "#9c179e"
            ],
            [
             0.4444444444444444,
             "#bd3786"
            ],
            [
             0.5555555555555556,
             "#d8576b"
            ],
            [
             0.6666666666666666,
             "#ed7953"
            ],
            [
             0.7777777777777778,
             "#fb9f3a"
            ],
            [
             0.8888888888888888,
             "#fdca26"
            ],
            [
             1,
             "#f0f921"
            ]
           ],
           "sequentialminus": [
            [
             0,
             "#0d0887"
            ],
            [
             0.1111111111111111,
             "#46039f"
            ],
            [
             0.2222222222222222,
             "#7201a8"
            ],
            [
             0.3333333333333333,
             "#9c179e"
            ],
            [
             0.4444444444444444,
             "#bd3786"
            ],
            [
             0.5555555555555556,
             "#d8576b"
            ],
            [
             0.6666666666666666,
             "#ed7953"
            ],
            [
             0.7777777777777778,
             "#fb9f3a"
            ],
            [
             0.8888888888888888,
             "#fdca26"
            ],
            [
             1,
             "#f0f921"
            ]
           ]
          },
          "colorway": [
           "#636efa",
           "#EF553B",
           "#00cc96",
           "#ab63fa",
           "#FFA15A",
           "#19d3f3",
           "#FF6692",
           "#B6E880",
           "#FF97FF",
           "#FECB52"
          ],
          "font": {
           "color": "#2a3f5f"
          },
          "geo": {
           "bgcolor": "white",
           "lakecolor": "white",
           "landcolor": "#E5ECF6",
           "showlakes": true,
           "showland": true,
           "subunitcolor": "white"
          },
          "hoverlabel": {
           "align": "left"
          },
          "hovermode": "closest",
          "mapbox": {
           "style": "light"
          },
          "paper_bgcolor": "white",
          "plot_bgcolor": "#E5ECF6",
          "polar": {
           "angularaxis": {
            "gridcolor": "white",
            "linecolor": "white",
            "ticks": ""
           },
           "bgcolor": "#E5ECF6",
           "radialaxis": {
            "gridcolor": "white",
            "linecolor": "white",
            "ticks": ""
           }
          },
          "scene": {
           "xaxis": {
            "backgroundcolor": "#E5ECF6",
            "gridcolor": "white",
            "gridwidth": 2,
            "linecolor": "white",
            "showbackground": true,
            "ticks": "",
            "zerolinecolor": "white"
           },
           "yaxis": {
            "backgroundcolor": "#E5ECF6",
            "gridcolor": "white",
            "gridwidth": 2,
            "linecolor": "white",
            "showbackground": true,
            "ticks": "",
            "zerolinecolor": "white"
           },
           "zaxis": {
            "backgroundcolor": "#E5ECF6",
            "gridcolor": "white",
            "gridwidth": 2,
            "linecolor": "white",
            "showbackground": true,
            "ticks": "",
            "zerolinecolor": "white"
           }
          },
          "shapedefaults": {
           "line": {
            "color": "#2a3f5f"
           }
          },
          "ternary": {
           "aaxis": {
            "gridcolor": "white",
            "linecolor": "white",
            "ticks": ""
           },
           "baxis": {
            "gridcolor": "white",
            "linecolor": "white",
            "ticks": ""
           },
           "bgcolor": "#E5ECF6",
           "caxis": {
            "gridcolor": "white",
            "linecolor": "white",
            "ticks": ""
           }
          },
          "title": {
           "x": 0.05
          },
          "xaxis": {
           "automargin": true,
           "gridcolor": "white",
           "linecolor": "white",
           "ticks": "",
           "title": {
            "standoff": 15
           },
           "zerolinecolor": "white",
           "zerolinewidth": 2
          },
          "yaxis": {
           "automargin": true,
           "gridcolor": "white",
           "linecolor": "white",
           "ticks": "",
           "title": {
            "standoff": 15
           },
           "zerolinecolor": "white",
           "zerolinewidth": 2
          }
         }
        },
        "updatemenus": [
         {
          "buttons": [
           {
            "args": [
             {
              "y": [
               [
                1079,
                1942,
                770
               ],
               [
                2329,
                2057,
                1315
               ]
              ]
             }
            ],
            "label": "United Arab Emirates",
            "method": "update"
           },
           {
            "args": [
             {
              "y": [
               [
                2,
                215,
                49,
                50,
                1062,
                3,
                18,
                7,
                48,
                9,
                16,
                70
               ],
               [
                4,
                537,
                39,
                25,
                929,
                5,
                41,
                6,
                101,
                26,
                11,
                42
               ]
              ]
             }
            ],
            "label": "Australia",
            "method": "update"
           }
          ],
          "direction": "down",
          "showactive": false
         }
        ],
        "xaxis": {
         "anchor": "y",
         "domain": [
          0,
          1
         ],
         "title": {
          "text": "LANGN"
         }
        },
        "yaxis": {
         "anchor": "x",
         "domain": [
          0,
          1
         ],
         "title": {
          "text": "Count"
         }
        }
       }
      }
     },
     "metadata": {},
     "output_type": "display_data"
    }
   ],
   "source": [
    "import plotly.express as px\n",
    "import plotly.graph_objects as go\n",
    "\n",
    "\n",
    "qqq_are = qqq_immi_fp[qqq_immi_fp[\"CNT\"] == \"ARE\"]\n",
    "qqq_aus = qqq_immi_fp[qqq_immi_fp[\"CNT\"] == \"AUS\"]\n",
    "qqq_can = qqq_immi_fp[qqq_immi_fp[\"CNT\"] == \"CAN\"]\n",
    "qqq_che = qqq_immi_fp[qqq_immi_fp[\"CNT\"] == \"CHE\"]\n",
    "qqq_lux = qqq_immi_fp[qqq_immi_fp[\"CNT\"] == \"LUX\"]\n",
    "qqq_mac = qqq_immi_fp[qqq_immi_fp[\"CNT\"] == \"MAC\"]\n",
    "qqq_nzl = qqq_immi_fp[qqq_immi_fp[\"CNT\"] == \"NZL\"]\n",
    "qqq_qat = qqq_immi_fp[qqq_immi_fp[\"CNT\"] == \"QAT\"]\n",
    "\n",
    "fig = px.bar(qqq_immi_fp, x='LANGN', y='Count', color='IMMIG', barmode='group')\n",
    "\n",
    "\n",
    "updatemenus = [\n",
    "    {\n",
    "        'buttons': [\n",
    "            {\n",
    "                'method': 'update',\n",
    "                'label': 'United Arab Emirates',\n",
    "                'args': [\n",
    "                    {'y': [qqq_are[(qqq_are['IMMIG'] == '1st')]['Count'],\n",
    "                           qqq_are[(qqq_are['IMMIG'] == '2nd')]['Count']]},\n",
    "                ]\n",
    "            },\n",
    "            {\n",
    "                'method': 'update',\n",
    "                'label': 'Australia',\n",
    "                'args': [\n",
    "                    {'y': [qqq_aus[(qqq_aus['IMMIG'] == '1st')]['Count'],\n",
    "                           qqq_aus[(qqq_aus['IMMIG'] == '2nd')]['Count']]},\n",
    "                ]\n",
    "            }\n",
    "\n",
    "        \n",
    "        ],\n",
    "        'direction': 'down',\n",
    "        'showactive': False,\n",
    "    }\n",
    "]\n",
    "\n",
    "fig.update_layout(updatemenus=updatemenus)\n",
    "fig.show()"
   ]
  },
  {
   "cell_type": "code",
   "execution_count": 141,
   "metadata": {},
   "outputs": [
    {
     "data": {
      "application/vnd.plotly.v1+json": {
       "config": {
        "plotlyServerURL": "https://plot.ly"
       },
       "data": [
        {
         "type": "bar",
         "visible": false,
         "x": [
          "Another language (ARE)",
          "Arabic",
          "English"
         ],
         "xaxis": "x",
         "y": [
          1079,
          1942,
          770
         ],
         "yaxis": "y"
        },
        {
         "type": "bar",
         "visible": false,
         "x": [
          "Another language (ARE)",
          "Arabic",
          "English"
         ],
         "xaxis": "x2",
         "y": [
          2329,
          2057,
          1315
         ],
         "yaxis": "y2"
        },
        {
         "type": "bar",
         "visible": false,
         "x": [
          "An Australian Indigenous language",
          "Another language (AUS)",
          "Arabic (including Lebanese)",
          "Cantonese",
          "English",
          "Greek",
          "Hindi",
          "Italian",
          "Mandarin",
          "Punjabi",
          "Spanish",
          "Vietnamese"
         ],
         "xaxis": "x",
         "y": [
          2,
          215,
          49,
          50,
          1062,
          3,
          18,
          7,
          48,
          9,
          16,
          70
         ],
         "yaxis": "y"
        },
        {
         "type": "bar",
         "visible": false,
         "x": [
          "An Australian Indigenous language",
          "Another language (AUS)",
          "Arabic (including Lebanese)",
          "Cantonese",
          "English",
          "Greek",
          "Hindi",
          "Italian",
          "Mandarin",
          "Punjabi",
          "Spanish",
          "Vietnamese"
         ],
         "xaxis": "x2",
         "y": [
          4,
          537,
          39,
          25,
          929,
          5,
          41,
          6,
          101,
          26,
          11,
          42
         ],
         "yaxis": "y2"
        },
        {
         "type": "bar",
         "visible": false,
         "x": [
          "Another language (CAN)",
          "English",
          "French"
         ],
         "xaxis": "x",
         "y": [
          843,
          1382,
          224
         ],
         "yaxis": "y"
        },
        {
         "type": "bar",
         "visible": false,
         "x": [
          "Another language (CAN)",
          "English",
          "French"
         ],
         "xaxis": "x2",
         "y": [
          1942,
          841,
          285
         ],
         "yaxis": "y2"
        },
        {
         "type": "bar",
         "visible": false,
         "x": [
          "Albanian",
          "Another language (CHE)",
          "Dialect from Ticino or an Italian Region",
          "English",
          "French",
          "German",
          "Italian",
          "Portuguese",
          "Raeto'-Romance",
          "South Slav",
          "Spanish",
          "Swiss German",
          "Turkish"
         ],
         "xaxis": "x",
         "y": [
          210,
          134,
          1,
          24,
          218,
          53,
          156,
          79,
          2,
          151,
          18,
          140,
          47
         ],
         "yaxis": "y"
        },
        {
         "type": "bar",
         "visible": false,
         "x": [
          "Albanian",
          "Another language (CHE)",
          "Dialect from Ticino or an Italian Region",
          "English",
          "French",
          "German",
          "Italian",
          "Portuguese",
          "South Slav",
          "Spanish",
          "Swiss German",
          "Turkish"
         ],
         "xaxis": "x2",
         "y": [
          51,
          133,
          5,
          32,
          60,
          85,
          95,
          132,
          30,
          31,
          23,
          11
         ],
         "yaxis": "y2"
        },
        {
         "type": "bar",
         "visible": false,
         "x": [
          "Another language (LUX)",
          "English",
          "French",
          "German",
          "Italian",
          "Luxembourgish",
          "Portuguese",
          "Yugoslavian - Serbian, Croatian, etc."
         ],
         "xaxis": "x",
         "y": [
          160,
          76,
          316,
          58,
          24,
          186,
          538,
          189
         ],
         "yaxis": "y"
        },
        {
         "type": "bar",
         "visible": false,
         "x": [
          "Another language (LUX)",
          "English",
          "French",
          "German",
          "Italian",
          "Luxembourgish",
          "Portuguese",
          "Yugoslavian - Serbian, Croatian, etc."
         ],
         "xaxis": "x2",
         "y": [
          266,
          82,
          240,
          59,
          44,
          29,
          475,
          51
         ],
         "yaxis": "y2"
        },
        {
         "type": "bar",
         "visible": false,
         "x": [
          "Another language (MAC)",
          "Cantonese",
          "Chinese dialects or languages (MAC)",
          "English",
          "Mandarin",
          "Portuguese"
         ],
         "xaxis": "x",
         "y": [
          31,
          1201,
          55,
          38,
          37,
          14
         ],
         "yaxis": "y"
        },
        {
         "type": "bar",
         "visible": false,
         "x": [
          "Another language (MAC)",
          "Cantonese",
          "Chinese dialects or languages (MAC)",
          "English",
          "Mandarin",
          "Portuguese"
         ],
         "xaxis": "x2",
         "y": [
          38,
          539,
          179,
          37,
          166,
          14
         ],
         "yaxis": "y2"
        },
        {
         "type": "bar",
         "visible": false,
         "x": [
          "Another language (NZL)",
          "Chinese",
          "English",
          "Korean",
          "Samoan"
         ],
         "xaxis": "x",
         "y": [
          146,
          74,
          437,
          15,
          24
         ],
         "yaxis": "y"
        },
        {
         "type": "bar",
         "visible": false,
         "x": [
          "Another language (NZL)",
          "Chinese",
          "English",
          "Korean",
          "Maori",
          "Samoan"
         ],
         "xaxis": "x2",
         "y": [
          295,
          89,
          413,
          31,
          2,
          31
         ],
         "yaxis": "y2"
        },
        {
         "type": "bar",
         "visible": false,
         "x": [
          "Another language (QAT)",
          "Arabic",
          "English",
          "Hindi"
         ],
         "xaxis": "x",
         "y": [
          502,
          1384,
          221,
          97
         ],
         "yaxis": "y"
        },
        {
         "type": "bar",
         "visible": false,
         "x": [
          "Another language (QAT)",
          "Arabic",
          "English",
          "Hindi"
         ],
         "xaxis": "x2",
         "y": [
          1666,
          2446,
          847,
          210
         ],
         "yaxis": "y2"
        }
       ],
       "layout": {
        "template": {
         "data": {
          "bar": [
           {
            "error_x": {
             "color": "#2a3f5f"
            },
            "error_y": {
             "color": "#2a3f5f"
            },
            "marker": {
             "line": {
              "color": "#E5ECF6",
              "width": 0.5
             },
             "pattern": {
              "fillmode": "overlay",
              "size": 10,
              "solidity": 0.2
             }
            },
            "type": "bar"
           }
          ],
          "barpolar": [
           {
            "marker": {
             "line": {
              "color": "#E5ECF6",
              "width": 0.5
             },
             "pattern": {
              "fillmode": "overlay",
              "size": 10,
              "solidity": 0.2
             }
            },
            "type": "barpolar"
           }
          ],
          "carpet": [
           {
            "aaxis": {
             "endlinecolor": "#2a3f5f",
             "gridcolor": "white",
             "linecolor": "white",
             "minorgridcolor": "white",
             "startlinecolor": "#2a3f5f"
            },
            "baxis": {
             "endlinecolor": "#2a3f5f",
             "gridcolor": "white",
             "linecolor": "white",
             "minorgridcolor": "white",
             "startlinecolor": "#2a3f5f"
            },
            "type": "carpet"
           }
          ],
          "choropleth": [
           {
            "colorbar": {
             "outlinewidth": 0,
             "ticks": ""
            },
            "type": "choropleth"
           }
          ],
          "contour": [
           {
            "colorbar": {
             "outlinewidth": 0,
             "ticks": ""
            },
            "colorscale": [
             [
              0,
              "#0d0887"
             ],
             [
              0.1111111111111111,
              "#46039f"
             ],
             [
              0.2222222222222222,
              "#7201a8"
             ],
             [
              0.3333333333333333,
              "#9c179e"
             ],
             [
              0.4444444444444444,
              "#bd3786"
             ],
             [
              0.5555555555555556,
              "#d8576b"
             ],
             [
              0.6666666666666666,
              "#ed7953"
             ],
             [
              0.7777777777777778,
              "#fb9f3a"
             ],
             [
              0.8888888888888888,
              "#fdca26"
             ],
             [
              1,
              "#f0f921"
             ]
            ],
            "type": "contour"
           }
          ],
          "contourcarpet": [
           {
            "colorbar": {
             "outlinewidth": 0,
             "ticks": ""
            },
            "type": "contourcarpet"
           }
          ],
          "heatmap": [
           {
            "colorbar": {
             "outlinewidth": 0,
             "ticks": ""
            },
            "colorscale": [
             [
              0,
              "#0d0887"
             ],
             [
              0.1111111111111111,
              "#46039f"
             ],
             [
              0.2222222222222222,
              "#7201a8"
             ],
             [
              0.3333333333333333,
              "#9c179e"
             ],
             [
              0.4444444444444444,
              "#bd3786"
             ],
             [
              0.5555555555555556,
              "#d8576b"
             ],
             [
              0.6666666666666666,
              "#ed7953"
             ],
             [
              0.7777777777777778,
              "#fb9f3a"
             ],
             [
              0.8888888888888888,
              "#fdca26"
             ],
             [
              1,
              "#f0f921"
             ]
            ],
            "type": "heatmap"
           }
          ],
          "heatmapgl": [
           {
            "colorbar": {
             "outlinewidth": 0,
             "ticks": ""
            },
            "colorscale": [
             [
              0,
              "#0d0887"
             ],
             [
              0.1111111111111111,
              "#46039f"
             ],
             [
              0.2222222222222222,
              "#7201a8"
             ],
             [
              0.3333333333333333,
              "#9c179e"
             ],
             [
              0.4444444444444444,
              "#bd3786"
             ],
             [
              0.5555555555555556,
              "#d8576b"
             ],
             [
              0.6666666666666666,
              "#ed7953"
             ],
             [
              0.7777777777777778,
              "#fb9f3a"
             ],
             [
              0.8888888888888888,
              "#fdca26"
             ],
             [
              1,
              "#f0f921"
             ]
            ],
            "type": "heatmapgl"
           }
          ],
          "histogram": [
           {
            "marker": {
             "pattern": {
              "fillmode": "overlay",
              "size": 10,
              "solidity": 0.2
             }
            },
            "type": "histogram"
           }
          ],
          "histogram2d": [
           {
            "colorbar": {
             "outlinewidth": 0,
             "ticks": ""
            },
            "colorscale": [
             [
              0,
              "#0d0887"
             ],
             [
              0.1111111111111111,
              "#46039f"
             ],
             [
              0.2222222222222222,
              "#7201a8"
             ],
             [
              0.3333333333333333,
              "#9c179e"
             ],
             [
              0.4444444444444444,
              "#bd3786"
             ],
             [
              0.5555555555555556,
              "#d8576b"
             ],
             [
              0.6666666666666666,
              "#ed7953"
             ],
             [
              0.7777777777777778,
              "#fb9f3a"
             ],
             [
              0.8888888888888888,
              "#fdca26"
             ],
             [
              1,
              "#f0f921"
             ]
            ],
            "type": "histogram2d"
           }
          ],
          "histogram2dcontour": [
           {
            "colorbar": {
             "outlinewidth": 0,
             "ticks": ""
            },
            "colorscale": [
             [
              0,
              "#0d0887"
             ],
             [
              0.1111111111111111,
              "#46039f"
             ],
             [
              0.2222222222222222,
              "#7201a8"
             ],
             [
              0.3333333333333333,
              "#9c179e"
             ],
             [
              0.4444444444444444,
              "#bd3786"
             ],
             [
              0.5555555555555556,
              "#d8576b"
             ],
             [
              0.6666666666666666,
              "#ed7953"
             ],
             [
              0.7777777777777778,
              "#fb9f3a"
             ],
             [
              0.8888888888888888,
              "#fdca26"
             ],
             [
              1,
              "#f0f921"
             ]
            ],
            "type": "histogram2dcontour"
           }
          ],
          "mesh3d": [
           {
            "colorbar": {
             "outlinewidth": 0,
             "ticks": ""
            },
            "type": "mesh3d"
           }
          ],
          "parcoords": [
           {
            "line": {
             "colorbar": {
              "outlinewidth": 0,
              "ticks": ""
             }
            },
            "type": "parcoords"
           }
          ],
          "pie": [
           {
            "automargin": true,
            "type": "pie"
           }
          ],
          "scatter": [
           {
            "fillpattern": {
             "fillmode": "overlay",
             "size": 10,
             "solidity": 0.2
            },
            "type": "scatter"
           }
          ],
          "scatter3d": [
           {
            "line": {
             "colorbar": {
              "outlinewidth": 0,
              "ticks": ""
             }
            },
            "marker": {
             "colorbar": {
              "outlinewidth": 0,
              "ticks": ""
             }
            },
            "type": "scatter3d"
           }
          ],
          "scattercarpet": [
           {
            "marker": {
             "colorbar": {
              "outlinewidth": 0,
              "ticks": ""
             }
            },
            "type": "scattercarpet"
           }
          ],
          "scattergeo": [
           {
            "marker": {
             "colorbar": {
              "outlinewidth": 0,
              "ticks": ""
             }
            },
            "type": "scattergeo"
           }
          ],
          "scattergl": [
           {
            "marker": {
             "colorbar": {
              "outlinewidth": 0,
              "ticks": ""
             }
            },
            "type": "scattergl"
           }
          ],
          "scattermapbox": [
           {
            "marker": {
             "colorbar": {
              "outlinewidth": 0,
              "ticks": ""
             }
            },
            "type": "scattermapbox"
           }
          ],
          "scatterpolar": [
           {
            "marker": {
             "colorbar": {
              "outlinewidth": 0,
              "ticks": ""
             }
            },
            "type": "scatterpolar"
           }
          ],
          "scatterpolargl": [
           {
            "marker": {
             "colorbar": {
              "outlinewidth": 0,
              "ticks": ""
             }
            },
            "type": "scatterpolargl"
           }
          ],
          "scatterternary": [
           {
            "marker": {
             "colorbar": {
              "outlinewidth": 0,
              "ticks": ""
             }
            },
            "type": "scatterternary"
           }
          ],
          "surface": [
           {
            "colorbar": {
             "outlinewidth": 0,
             "ticks": ""
            },
            "colorscale": [
             [
              0,
              "#0d0887"
             ],
             [
              0.1111111111111111,
              "#46039f"
             ],
             [
              0.2222222222222222,
              "#7201a8"
             ],
             [
              0.3333333333333333,
              "#9c179e"
             ],
             [
              0.4444444444444444,
              "#bd3786"
             ],
             [
              0.5555555555555556,
              "#d8576b"
             ],
             [
              0.6666666666666666,
              "#ed7953"
             ],
             [
              0.7777777777777778,
              "#fb9f3a"
             ],
             [
              0.8888888888888888,
              "#fdca26"
             ],
             [
              1,
              "#f0f921"
             ]
            ],
            "type": "surface"
           }
          ],
          "table": [
           {
            "cells": {
             "fill": {
              "color": "#EBF0F8"
             },
             "line": {
              "color": "white"
             }
            },
            "header": {
             "fill": {
              "color": "#C8D4E3"
             },
             "line": {
              "color": "white"
             }
            },
            "type": "table"
           }
          ]
         },
         "layout": {
          "annotationdefaults": {
           "arrowcolor": "#2a3f5f",
           "arrowhead": 0,
           "arrowwidth": 1
          },
          "autotypenumbers": "strict",
          "coloraxis": {
           "colorbar": {
            "outlinewidth": 0,
            "ticks": ""
           }
          },
          "colorscale": {
           "diverging": [
            [
             0,
             "#8e0152"
            ],
            [
             0.1,
             "#c51b7d"
            ],
            [
             0.2,
             "#de77ae"
            ],
            [
             0.3,
             "#f1b6da"
            ],
            [
             0.4,
             "#fde0ef"
            ],
            [
             0.5,
             "#f7f7f7"
            ],
            [
             0.6,
             "#e6f5d0"
            ],
            [
             0.7,
             "#b8e186"
            ],
            [
             0.8,
             "#7fbc41"
            ],
            [
             0.9,
             "#4d9221"
            ],
            [
             1,
             "#276419"
            ]
           ],
           "sequential": [
            [
             0,
             "#0d0887"
            ],
            [
             0.1111111111111111,
             "#46039f"
            ],
            [
             0.2222222222222222,
             "#7201a8"
            ],
            [
             0.3333333333333333,
             "#9c179e"
            ],
            [
             0.4444444444444444,
             "#bd3786"
            ],
            [
             0.5555555555555556,
             "#d8576b"
            ],
            [
             0.6666666666666666,
             "#ed7953"
            ],
            [
             0.7777777777777778,
             "#fb9f3a"
            ],
            [
             0.8888888888888888,
             "#fdca26"
            ],
            [
             1,
             "#f0f921"
            ]
           ],
           "sequentialminus": [
            [
             0,
             "#0d0887"
            ],
            [
             0.1111111111111111,
             "#46039f"
            ],
            [
             0.2222222222222222,
             "#7201a8"
            ],
            [
             0.3333333333333333,
             "#9c179e"
            ],
            [
             0.4444444444444444,
             "#bd3786"
            ],
            [
             0.5555555555555556,
             "#d8576b"
            ],
            [
             0.6666666666666666,
             "#ed7953"
            ],
            [
             0.7777777777777778,
             "#fb9f3a"
            ],
            [
             0.8888888888888888,
             "#fdca26"
            ],
            [
             1,
             "#f0f921"
            ]
           ]
          },
          "colorway": [
           "#636efa",
           "#EF553B",
           "#00cc96",
           "#ab63fa",
           "#FFA15A",
           "#19d3f3",
           "#FF6692",
           "#B6E880",
           "#FF97FF",
           "#FECB52"
          ],
          "font": {
           "color": "#2a3f5f"
          },
          "geo": {
           "bgcolor": "white",
           "lakecolor": "white",
           "landcolor": "#E5ECF6",
           "showlakes": true,
           "showland": true,
           "subunitcolor": "white"
          },
          "hoverlabel": {
           "align": "left"
          },
          "hovermode": "closest",
          "mapbox": {
           "style": "light"
          },
          "paper_bgcolor": "white",
          "plot_bgcolor": "#E5ECF6",
          "polar": {
           "angularaxis": {
            "gridcolor": "white",
            "linecolor": "white",
            "ticks": ""
           },
           "bgcolor": "#E5ECF6",
           "radialaxis": {
            "gridcolor": "white",
            "linecolor": "white",
            "ticks": ""
           }
          },
          "scene": {
           "xaxis": {
            "backgroundcolor": "#E5ECF6",
            "gridcolor": "white",
            "gridwidth": 2,
            "linecolor": "white",
            "showbackground": true,
            "ticks": "",
            "zerolinecolor": "white"
           },
           "yaxis": {
            "backgroundcolor": "#E5ECF6",
            "gridcolor": "white",
            "gridwidth": 2,
            "linecolor": "white",
            "showbackground": true,
            "ticks": "",
            "zerolinecolor": "white"
           },
           "zaxis": {
            "backgroundcolor": "#E5ECF6",
            "gridcolor": "white",
            "gridwidth": 2,
            "linecolor": "white",
            "showbackground": true,
            "ticks": "",
            "zerolinecolor": "white"
           }
          },
          "shapedefaults": {
           "line": {
            "color": "#2a3f5f"
           }
          },
          "ternary": {
           "aaxis": {
            "gridcolor": "white",
            "linecolor": "white",
            "ticks": ""
           },
           "baxis": {
            "gridcolor": "white",
            "linecolor": "white",
            "ticks": ""
           },
           "bgcolor": "#E5ECF6",
           "caxis": {
            "gridcolor": "white",
            "linecolor": "white",
            "ticks": ""
           }
          },
          "title": {
           "x": 0.05
          },
          "xaxis": {
           "automargin": true,
           "gridcolor": "white",
           "linecolor": "white",
           "ticks": "",
           "title": {
            "standoff": 15
           },
           "zerolinecolor": "white",
           "zerolinewidth": 2
          },
          "yaxis": {
           "automargin": true,
           "gridcolor": "white",
           "linecolor": "white",
           "ticks": "",
           "title": {
            "standoff": 15
           },
           "zerolinecolor": "white",
           "zerolinewidth": 2
          }
         }
        },
        "updatemenus": [
         {
          "active": 0,
          "buttons": [
           {
            "args": [
             {
              "visible": [
               true,
               false,
               false,
               false,
               false,
               false,
               false,
               false
              ]
             }
            ],
            "label": "ARE",
            "method": "update"
           },
           {
            "args": [
             {
              "visible": [
               false,
               true,
               false,
               false,
               false,
               false,
               false,
               false
              ]
             }
            ],
            "label": "AUS",
            "method": "update"
           },
           {
            "args": [
             {
              "visible": [
               false,
               false,
               true,
               false,
               false,
               false,
               false,
               false
              ]
             }
            ],
            "label": "CAN",
            "method": "update"
           },
           {
            "args": [
             {
              "visible": [
               false,
               false,
               false,
               true,
               false,
               false,
               false,
               false
              ]
             }
            ],
            "label": "CHE",
            "method": "update"
           },
           {
            "args": [
             {
              "visible": [
               false,
               false,
               false,
               false,
               true,
               false,
               false,
               false
              ]
             }
            ],
            "label": "LUX",
            "method": "update"
           },
           {
            "args": [
             {
              "visible": [
               false,
               false,
               false,
               false,
               false,
               true,
               false,
               false
              ]
             }
            ],
            "label": "MAC",
            "method": "update"
           },
           {
            "args": [
             {
              "visible": [
               false,
               false,
               false,
               false,
               false,
               false,
               true,
               false
              ]
             }
            ],
            "label": "NZL",
            "method": "update"
           },
           {
            "args": [
             {
              "visible": [
               false,
               false,
               false,
               false,
               false,
               false,
               false,
               true
              ]
             }
            ],
            "label": "QAT",
            "method": "update"
           }
          ]
         }
        ],
        "xaxis": {
         "anchor": "y",
         "domain": [
          0,
          0.45
         ]
        },
        "xaxis2": {
         "anchor": "y2",
         "domain": [
          0.55,
          1
         ]
        },
        "yaxis": {
         "anchor": "x",
         "domain": [
          0,
          1
         ]
        },
        "yaxis2": {
         "anchor": "x2",
         "domain": [
          0,
          1
         ]
        }
       }
      }
     },
     "metadata": {},
     "output_type": "display_data"
    }
   ],
   "source": [
    "from plotly.subplots import make_subplots\n",
    "cnt = qqq_immi_fp[\"CNT\"].unique().tolist()\n",
    "lang  = qqq_immi_fp[\"LANGN\"].unique().tolist()\n",
    "\n",
    "fig = go.Figure()\n",
    "\n",
    "data2 = []\n",
    "\n",
    "fig = make_subplots(rows=1, cols=2)\n",
    "\n",
    "for i in cnt:\n",
    "\n",
    "    fig.add_trace(  # Add A trace to the figure\n",
    "            go.Bar(  # Specify the type of the trace\n",
    "                x=qqq_immi_fp1.loc[qqq_immi_fp1['CNT'] == i]['LANGN'].tolist(),  # Data-x\n",
    "                y=qqq_immi_fp1.loc[qqq_immi_fp1['CNT'] == i]['Count'].tolist(),  # Data-y\n",
    "                # note the re-normalization of population to map to width to units of \"pixels\"\n",
    "                visible=False,  # Specify whether or not to make data-visible when rendered\n",
    "    \n",
    "            ),\n",
    "            row=1, col=1\n",
    "        )\n",
    "    \n",
    "    fig.add_trace(  # Add A trace to the figure\n",
    "            go.Bar(  # Specify the type of the trace\n",
    "                x=qqq_immi_fp2.loc[qqq_immi_fp2['CNT'] == i]['LANGN'].tolist(),  # Data-x\n",
    "                y=qqq_immi_fp2.loc[qqq_immi_fp2['CNT'] == i]['Count'].tolist(),  # Data-y\n",
    "                # note the re-normalization of population to map to width to units of \"pixels\"\n",
    "                visible=False,  # Specify whether or not to make data-visible when rendered\n",
    "            ),\n",
    "            row=1, col=2\n",
    "        )\n",
    "    \n",
    "\n",
    "\n",
    "#visual = [False]*len(con)\n",
    "bton2 = []\n",
    "\n",
    "for j in range(0, len(cnt)):\n",
    "    visual2 = [False]*len(cnt)\n",
    "    visual2[j] = True\n",
    "    #print(visual)\n",
    "\n",
    "    bton2.append(\n",
    "        dict(label=cnt[j],\n",
    "                     method=\"update\",\n",
    "                     args=[{\"visible\": visual2}])\n",
    "    )\n",
    "\n",
    "fig.update_layout(\n",
    "    updatemenus=[\n",
    "        dict(\n",
    "            active=0,\n",
    "            buttons=list(bton2),\n",
    "        )\n",
    "    ])\n",
    "  \n",
    "fig.show()"
   ]
  },
  {
   "cell_type": "code",
   "execution_count": 151,
   "metadata": {},
   "outputs": [
    {
     "data": {
      "application/vnd.plotly.v1+json": {
       "config": {
        "plotlyServerURL": "https://plot.ly"
       },
       "data": [
        {
         "name": "1st",
         "type": "bar",
         "visible": false,
         "x": [
          "Another language (ARE)",
          "Arabic",
          "English"
         ],
         "xaxis": "x",
         "y": [
          1079,
          1942,
          770
         ],
         "yaxis": "y"
        },
        {
         "name": "2nd",
         "type": "bar",
         "visible": false,
         "x": [
          "Another language (ARE)",
          "Arabic",
          "English"
         ],
         "xaxis": "x2",
         "y": [
          2329,
          2057,
          1315
         ],
         "yaxis": "y2"
        },
        {
         "name": "1st",
         "type": "bar",
         "visible": false,
         "x": [
          "An Australian Indigenous language",
          "Another language (AUS)",
          "Arabic (including Lebanese)",
          "Cantonese",
          "English",
          "Greek",
          "Hindi",
          "Italian",
          "Mandarin",
          "Punjabi",
          "Spanish",
          "Vietnamese"
         ],
         "xaxis": "x",
         "y": [
          2,
          215,
          49,
          50,
          1062,
          3,
          18,
          7,
          48,
          9,
          16,
          70
         ],
         "yaxis": "y"
        },
        {
         "name": "2nd",
         "type": "bar",
         "visible": false,
         "x": [
          "An Australian Indigenous language",
          "Another language (AUS)",
          "Arabic (including Lebanese)",
          "Cantonese",
          "English",
          "Greek",
          "Hindi",
          "Italian",
          "Mandarin",
          "Punjabi",
          "Spanish",
          "Vietnamese"
         ],
         "xaxis": "x2",
         "y": [
          4,
          537,
          39,
          25,
          929,
          5,
          41,
          6,
          101,
          26,
          11,
          42
         ],
         "yaxis": "y2"
        },
        {
         "name": "1st",
         "type": "bar",
         "visible": false,
         "x": [
          "Another language (CAN)",
          "English",
          "French"
         ],
         "xaxis": "x",
         "y": [
          843,
          1382,
          224
         ],
         "yaxis": "y"
        },
        {
         "name": "2nd",
         "type": "bar",
         "visible": false,
         "x": [
          "Another language (CAN)",
          "English",
          "French"
         ],
         "xaxis": "x2",
         "y": [
          1942,
          841,
          285
         ],
         "yaxis": "y2"
        },
        {
         "name": "1st",
         "type": "bar",
         "visible": false,
         "x": [
          "Albanian",
          "Another language (CHE)",
          "Dialect from Ticino or an Italian Region",
          "English",
          "French",
          "German",
          "Italian",
          "Portuguese",
          "Raeto'-Romance",
          "South Slav",
          "Spanish",
          "Swiss German",
          "Turkish"
         ],
         "xaxis": "x",
         "y": [
          210,
          134,
          1,
          24,
          218,
          53,
          156,
          79,
          2,
          151,
          18,
          140,
          47
         ],
         "yaxis": "y"
        },
        {
         "name": "2nd",
         "type": "bar",
         "visible": false,
         "x": [
          "Albanian",
          "Another language (CHE)",
          "Dialect from Ticino or an Italian Region",
          "English",
          "French",
          "German",
          "Italian",
          "Portuguese",
          "South Slav",
          "Spanish",
          "Swiss German",
          "Turkish"
         ],
         "xaxis": "x2",
         "y": [
          51,
          133,
          5,
          32,
          60,
          85,
          95,
          132,
          30,
          31,
          23,
          11
         ],
         "yaxis": "y2"
        },
        {
         "name": "1st",
         "type": "bar",
         "visible": false,
         "x": [
          "Another language (LUX)",
          "English",
          "French",
          "German",
          "Italian",
          "Luxembourgish",
          "Portuguese",
          "Yugoslavian - Serbian, Croatian, etc."
         ],
         "xaxis": "x",
         "y": [
          160,
          76,
          316,
          58,
          24,
          186,
          538,
          189
         ],
         "yaxis": "y"
        },
        {
         "name": "2nd",
         "type": "bar",
         "visible": false,
         "x": [
          "Another language (LUX)",
          "English",
          "French",
          "German",
          "Italian",
          "Luxembourgish",
          "Portuguese",
          "Yugoslavian - Serbian, Croatian, etc."
         ],
         "xaxis": "x2",
         "y": [
          266,
          82,
          240,
          59,
          44,
          29,
          475,
          51
         ],
         "yaxis": "y2"
        },
        {
         "name": "1st",
         "type": "bar",
         "visible": false,
         "x": [
          "Another language (MAC)",
          "Cantonese",
          "Chinese dialects or languages (MAC)",
          "English",
          "Mandarin",
          "Portuguese"
         ],
         "xaxis": "x",
         "y": [
          31,
          1201,
          55,
          38,
          37,
          14
         ],
         "yaxis": "y"
        },
        {
         "name": "2nd",
         "type": "bar",
         "visible": false,
         "x": [
          "Another language (MAC)",
          "Cantonese",
          "Chinese dialects or languages (MAC)",
          "English",
          "Mandarin",
          "Portuguese"
         ],
         "xaxis": "x2",
         "y": [
          38,
          539,
          179,
          37,
          166,
          14
         ],
         "yaxis": "y2"
        },
        {
         "name": "1st",
         "type": "bar",
         "visible": false,
         "x": [
          "Another language (NZL)",
          "Chinese",
          "English",
          "Korean",
          "Samoan"
         ],
         "xaxis": "x",
         "y": [
          146,
          74,
          437,
          15,
          24
         ],
         "yaxis": "y"
        },
        {
         "name": "2nd",
         "type": "bar",
         "visible": false,
         "x": [
          "Another language (NZL)",
          "Chinese",
          "English",
          "Korean",
          "Maori",
          "Samoan"
         ],
         "xaxis": "x2",
         "y": [
          295,
          89,
          413,
          31,
          2,
          31
         ],
         "yaxis": "y2"
        },
        {
         "name": "1st",
         "type": "bar",
         "visible": false,
         "x": [
          "Another language (QAT)",
          "Arabic",
          "English",
          "Hindi"
         ],
         "xaxis": "x",
         "y": [
          502,
          1384,
          221,
          97
         ],
         "yaxis": "y"
        },
        {
         "name": "2nd",
         "type": "bar",
         "visible": false,
         "x": [
          "Another language (QAT)",
          "Arabic",
          "English",
          "Hindi"
         ],
         "xaxis": "x2",
         "y": [
          1666,
          2446,
          847,
          210
         ],
         "yaxis": "y2"
        }
       ],
       "layout": {
        "template": {
         "data": {
          "bar": [
           {
            "error_x": {
             "color": "#2a3f5f"
            },
            "error_y": {
             "color": "#2a3f5f"
            },
            "marker": {
             "line": {
              "color": "#E5ECF6",
              "width": 0.5
             },
             "pattern": {
              "fillmode": "overlay",
              "size": 10,
              "solidity": 0.2
             }
            },
            "type": "bar"
           }
          ],
          "barpolar": [
           {
            "marker": {
             "line": {
              "color": "#E5ECF6",
              "width": 0.5
             },
             "pattern": {
              "fillmode": "overlay",
              "size": 10,
              "solidity": 0.2
             }
            },
            "type": "barpolar"
           }
          ],
          "carpet": [
           {
            "aaxis": {
             "endlinecolor": "#2a3f5f",
             "gridcolor": "white",
             "linecolor": "white",
             "minorgridcolor": "white",
             "startlinecolor": "#2a3f5f"
            },
            "baxis": {
             "endlinecolor": "#2a3f5f",
             "gridcolor": "white",
             "linecolor": "white",
             "minorgridcolor": "white",
             "startlinecolor": "#2a3f5f"
            },
            "type": "carpet"
           }
          ],
          "choropleth": [
           {
            "colorbar": {
             "outlinewidth": 0,
             "ticks": ""
            },
            "type": "choropleth"
           }
          ],
          "contour": [
           {
            "colorbar": {
             "outlinewidth": 0,
             "ticks": ""
            },
            "colorscale": [
             [
              0,
              "#0d0887"
             ],
             [
              0.1111111111111111,
              "#46039f"
             ],
             [
              0.2222222222222222,
              "#7201a8"
             ],
             [
              0.3333333333333333,
              "#9c179e"
             ],
             [
              0.4444444444444444,
              "#bd3786"
             ],
             [
              0.5555555555555556,
              "#d8576b"
             ],
             [
              0.6666666666666666,
              "#ed7953"
             ],
             [
              0.7777777777777778,
              "#fb9f3a"
             ],
             [
              0.8888888888888888,
              "#fdca26"
             ],
             [
              1,
              "#f0f921"
             ]
            ],
            "type": "contour"
           }
          ],
          "contourcarpet": [
           {
            "colorbar": {
             "outlinewidth": 0,
             "ticks": ""
            },
            "type": "contourcarpet"
           }
          ],
          "heatmap": [
           {
            "colorbar": {
             "outlinewidth": 0,
             "ticks": ""
            },
            "colorscale": [
             [
              0,
              "#0d0887"
             ],
             [
              0.1111111111111111,
              "#46039f"
             ],
             [
              0.2222222222222222,
              "#7201a8"
             ],
             [
              0.3333333333333333,
              "#9c179e"
             ],
             [
              0.4444444444444444,
              "#bd3786"
             ],
             [
              0.5555555555555556,
              "#d8576b"
             ],
             [
              0.6666666666666666,
              "#ed7953"
             ],
             [
              0.7777777777777778,
              "#fb9f3a"
             ],
             [
              0.8888888888888888,
              "#fdca26"
             ],
             [
              1,
              "#f0f921"
             ]
            ],
            "type": "heatmap"
           }
          ],
          "heatmapgl": [
           {
            "colorbar": {
             "outlinewidth": 0,
             "ticks": ""
            },
            "colorscale": [
             [
              0,
              "#0d0887"
             ],
             [
              0.1111111111111111,
              "#46039f"
             ],
             [
              0.2222222222222222,
              "#7201a8"
             ],
             [
              0.3333333333333333,
              "#9c179e"
             ],
             [
              0.4444444444444444,
              "#bd3786"
             ],
             [
              0.5555555555555556,
              "#d8576b"
             ],
             [
              0.6666666666666666,
              "#ed7953"
             ],
             [
              0.7777777777777778,
              "#fb9f3a"
             ],
             [
              0.8888888888888888,
              "#fdca26"
             ],
             [
              1,
              "#f0f921"
             ]
            ],
            "type": "heatmapgl"
           }
          ],
          "histogram": [
           {
            "marker": {
             "pattern": {
              "fillmode": "overlay",
              "size": 10,
              "solidity": 0.2
             }
            },
            "type": "histogram"
           }
          ],
          "histogram2d": [
           {
            "colorbar": {
             "outlinewidth": 0,
             "ticks": ""
            },
            "colorscale": [
             [
              0,
              "#0d0887"
             ],
             [
              0.1111111111111111,
              "#46039f"
             ],
             [
              0.2222222222222222,
              "#7201a8"
             ],
             [
              0.3333333333333333,
              "#9c179e"
             ],
             [
              0.4444444444444444,
              "#bd3786"
             ],
             [
              0.5555555555555556,
              "#d8576b"
             ],
             [
              0.6666666666666666,
              "#ed7953"
             ],
             [
              0.7777777777777778,
              "#fb9f3a"
             ],
             [
              0.8888888888888888,
              "#fdca26"
             ],
             [
              1,
              "#f0f921"
             ]
            ],
            "type": "histogram2d"
           }
          ],
          "histogram2dcontour": [
           {
            "colorbar": {
             "outlinewidth": 0,
             "ticks": ""
            },
            "colorscale": [
             [
              0,
              "#0d0887"
             ],
             [
              0.1111111111111111,
              "#46039f"
             ],
             [
              0.2222222222222222,
              "#7201a8"
             ],
             [
              0.3333333333333333,
              "#9c179e"
             ],
             [
              0.4444444444444444,
              "#bd3786"
             ],
             [
              0.5555555555555556,
              "#d8576b"
             ],
             [
              0.6666666666666666,
              "#ed7953"
             ],
             [
              0.7777777777777778,
              "#fb9f3a"
             ],
             [
              0.8888888888888888,
              "#fdca26"
             ],
             [
              1,
              "#f0f921"
             ]
            ],
            "type": "histogram2dcontour"
           }
          ],
          "mesh3d": [
           {
            "colorbar": {
             "outlinewidth": 0,
             "ticks": ""
            },
            "type": "mesh3d"
           }
          ],
          "parcoords": [
           {
            "line": {
             "colorbar": {
              "outlinewidth": 0,
              "ticks": ""
             }
            },
            "type": "parcoords"
           }
          ],
          "pie": [
           {
            "automargin": true,
            "type": "pie"
           }
          ],
          "scatter": [
           {
            "fillpattern": {
             "fillmode": "overlay",
             "size": 10,
             "solidity": 0.2
            },
            "type": "scatter"
           }
          ],
          "scatter3d": [
           {
            "line": {
             "colorbar": {
              "outlinewidth": 0,
              "ticks": ""
             }
            },
            "marker": {
             "colorbar": {
              "outlinewidth": 0,
              "ticks": ""
             }
            },
            "type": "scatter3d"
           }
          ],
          "scattercarpet": [
           {
            "marker": {
             "colorbar": {
              "outlinewidth": 0,
              "ticks": ""
             }
            },
            "type": "scattercarpet"
           }
          ],
          "scattergeo": [
           {
            "marker": {
             "colorbar": {
              "outlinewidth": 0,
              "ticks": ""
             }
            },
            "type": "scattergeo"
           }
          ],
          "scattergl": [
           {
            "marker": {
             "colorbar": {
              "outlinewidth": 0,
              "ticks": ""
             }
            },
            "type": "scattergl"
           }
          ],
          "scattermapbox": [
           {
            "marker": {
             "colorbar": {
              "outlinewidth": 0,
              "ticks": ""
             }
            },
            "type": "scattermapbox"
           }
          ],
          "scatterpolar": [
           {
            "marker": {
             "colorbar": {
              "outlinewidth": 0,
              "ticks": ""
             }
            },
            "type": "scatterpolar"
           }
          ],
          "scatterpolargl": [
           {
            "marker": {
             "colorbar": {
              "outlinewidth": 0,
              "ticks": ""
             }
            },
            "type": "scatterpolargl"
           }
          ],
          "scatterternary": [
           {
            "marker": {
             "colorbar": {
              "outlinewidth": 0,
              "ticks": ""
             }
            },
            "type": "scatterternary"
           }
          ],
          "surface": [
           {
            "colorbar": {
             "outlinewidth": 0,
             "ticks": ""
            },
            "colorscale": [
             [
              0,
              "#0d0887"
             ],
             [
              0.1111111111111111,
              "#46039f"
             ],
             [
              0.2222222222222222,
              "#7201a8"
             ],
             [
              0.3333333333333333,
              "#9c179e"
             ],
             [
              0.4444444444444444,
              "#bd3786"
             ],
             [
              0.5555555555555556,
              "#d8576b"
             ],
             [
              0.6666666666666666,
              "#ed7953"
             ],
             [
              0.7777777777777778,
              "#fb9f3a"
             ],
             [
              0.8888888888888888,
              "#fdca26"
             ],
             [
              1,
              "#f0f921"
             ]
            ],
            "type": "surface"
           }
          ],
          "table": [
           {
            "cells": {
             "fill": {
              "color": "#EBF0F8"
             },
             "line": {
              "color": "white"
             }
            },
            "header": {
             "fill": {
              "color": "#C8D4E3"
             },
             "line": {
              "color": "white"
             }
            },
            "type": "table"
           }
          ]
         },
         "layout": {
          "annotationdefaults": {
           "arrowcolor": "#2a3f5f",
           "arrowhead": 0,
           "arrowwidth": 1
          },
          "autotypenumbers": "strict",
          "coloraxis": {
           "colorbar": {
            "outlinewidth": 0,
            "ticks": ""
           }
          },
          "colorscale": {
           "diverging": [
            [
             0,
             "#8e0152"
            ],
            [
             0.1,
             "#c51b7d"
            ],
            [
             0.2,
             "#de77ae"
            ],
            [
             0.3,
             "#f1b6da"
            ],
            [
             0.4,
             "#fde0ef"
            ],
            [
             0.5,
             "#f7f7f7"
            ],
            [
             0.6,
             "#e6f5d0"
            ],
            [
             0.7,
             "#b8e186"
            ],
            [
             0.8,
             "#7fbc41"
            ],
            [
             0.9,
             "#4d9221"
            ],
            [
             1,
             "#276419"
            ]
           ],
           "sequential": [
            [
             0,
             "#0d0887"
            ],
            [
             0.1111111111111111,
             "#46039f"
            ],
            [
             0.2222222222222222,
             "#7201a8"
            ],
            [
             0.3333333333333333,
             "#9c179e"
            ],
            [
             0.4444444444444444,
             "#bd3786"
            ],
            [
             0.5555555555555556,
             "#d8576b"
            ],
            [
             0.6666666666666666,
             "#ed7953"
            ],
            [
             0.7777777777777778,
             "#fb9f3a"
            ],
            [
             0.8888888888888888,
             "#fdca26"
            ],
            [
             1,
             "#f0f921"
            ]
           ],
           "sequentialminus": [
            [
             0,
             "#0d0887"
            ],
            [
             0.1111111111111111,
             "#46039f"
            ],
            [
             0.2222222222222222,
             "#7201a8"
            ],
            [
             0.3333333333333333,
             "#9c179e"
            ],
            [
             0.4444444444444444,
             "#bd3786"
            ],
            [
             0.5555555555555556,
             "#d8576b"
            ],
            [
             0.6666666666666666,
             "#ed7953"
            ],
            [
             0.7777777777777778,
             "#fb9f3a"
            ],
            [
             0.8888888888888888,
             "#fdca26"
            ],
            [
             1,
             "#f0f921"
            ]
           ]
          },
          "colorway": [
           "#636efa",
           "#EF553B",
           "#00cc96",
           "#ab63fa",
           "#FFA15A",
           "#19d3f3",
           "#FF6692",
           "#B6E880",
           "#FF97FF",
           "#FECB52"
          ],
          "font": {
           "color": "#2a3f5f"
          },
          "geo": {
           "bgcolor": "white",
           "lakecolor": "white",
           "landcolor": "#E5ECF6",
           "showlakes": true,
           "showland": true,
           "subunitcolor": "white"
          },
          "hoverlabel": {
           "align": "left"
          },
          "hovermode": "closest",
          "mapbox": {
           "style": "light"
          },
          "paper_bgcolor": "white",
          "plot_bgcolor": "#E5ECF6",
          "polar": {
           "angularaxis": {
            "gridcolor": "white",
            "linecolor": "white",
            "ticks": ""
           },
           "bgcolor": "#E5ECF6",
           "radialaxis": {
            "gridcolor": "white",
            "linecolor": "white",
            "ticks": ""
           }
          },
          "scene": {
           "xaxis": {
            "backgroundcolor": "#E5ECF6",
            "gridcolor": "white",
            "gridwidth": 2,
            "linecolor": "white",
            "showbackground": true,
            "ticks": "",
            "zerolinecolor": "white"
           },
           "yaxis": {
            "backgroundcolor": "#E5ECF6",
            "gridcolor": "white",
            "gridwidth": 2,
            "linecolor": "white",
            "showbackground": true,
            "ticks": "",
            "zerolinecolor": "white"
           },
           "zaxis": {
            "backgroundcolor": "#E5ECF6",
            "gridcolor": "white",
            "gridwidth": 2,
            "linecolor": "white",
            "showbackground": true,
            "ticks": "",
            "zerolinecolor": "white"
           }
          },
          "shapedefaults": {
           "line": {
            "color": "#2a3f5f"
           }
          },
          "ternary": {
           "aaxis": {
            "gridcolor": "white",
            "linecolor": "white",
            "ticks": ""
           },
           "baxis": {
            "gridcolor": "white",
            "linecolor": "white",
            "ticks": ""
           },
           "bgcolor": "#E5ECF6",
           "caxis": {
            "gridcolor": "white",
            "linecolor": "white",
            "ticks": ""
           }
          },
          "title": {
           "x": 0.05
          },
          "xaxis": {
           "automargin": true,
           "gridcolor": "white",
           "linecolor": "white",
           "ticks": "",
           "title": {
            "standoff": 15
           },
           "zerolinecolor": "white",
           "zerolinewidth": 2
          },
          "yaxis": {
           "automargin": true,
           "gridcolor": "white",
           "linecolor": "white",
           "ticks": "",
           "title": {
            "standoff": 15
           },
           "zerolinecolor": "white",
           "zerolinewidth": 2
          }
         }
        },
        "updatemenus": [
         {
          "buttons": [
           {
            "args": [
             {
              "visible": [
               true,
               true,
               false,
               false,
               false,
               false,
               false,
               false,
               false,
               false,
               false,
               false,
               false,
               false,
               false,
               false,
               false
              ]
             },
             {
              "title": "ARE's language distribution across 1st and 2nd immigrants"
             }
            ],
            "label": "ARE",
            "method": "update"
           },
           {
            "args": [
             {
              "visible": [
               false,
               false,
               true,
               true,
               false,
               false,
               false,
               false,
               false,
               false,
               false,
               false,
               false,
               false,
               false,
               false,
               false
              ]
             },
             {
              "title": "AUS's language distribution across 1st and 2nd immigrants"
             }
            ],
            "label": "AUS",
            "method": "update"
           },
           {
            "args": [
             {
              "visible": [
               false,
               false,
               false,
               false,
               true,
               true,
               false,
               false,
               false,
               false,
               false,
               false,
               false,
               false,
               false,
               false,
               false
              ]
             },
             {
              "title": "CAN's language distribution across 1st and 2nd immigrants"
             }
            ],
            "label": "CAN",
            "method": "update"
           },
           {
            "args": [
             {
              "visible": [
               false,
               false,
               false,
               false,
               false,
               false,
               true,
               true,
               false,
               false,
               false,
               false,
               false,
               false,
               false,
               false,
               false
              ]
             },
             {
              "title": "CHE's language distribution across 1st and 2nd immigrants"
             }
            ],
            "label": "CHE",
            "method": "update"
           },
           {
            "args": [
             {
              "visible": [
               false,
               false,
               false,
               false,
               false,
               false,
               false,
               false,
               true,
               true,
               false,
               false,
               false,
               false,
               false,
               false,
               false
              ]
             },
             {
              "title": "LUX's language distribution across 1st and 2nd immigrants"
             }
            ],
            "label": "LUX",
            "method": "update"
           },
           {
            "args": [
             {
              "visible": [
               false,
               false,
               false,
               false,
               false,
               false,
               false,
               false,
               false,
               false,
               true,
               true,
               false,
               false,
               false,
               false,
               false
              ]
             },
             {
              "title": "MAC's language distribution across 1st and 2nd immigrants"
             }
            ],
            "label": "MAC",
            "method": "update"
           },
           {
            "args": [
             {
              "visible": [
               false,
               false,
               false,
               false,
               false,
               false,
               false,
               false,
               false,
               false,
               false,
               false,
               true,
               true,
               false,
               false,
               false
              ]
             },
             {
              "title": "NZL's language distribution across 1st and 2nd immigrants"
             }
            ],
            "label": "NZL",
            "method": "update"
           },
           {
            "args": [
             {
              "visible": [
               false,
               false,
               false,
               false,
               false,
               false,
               false,
               false,
               false,
               false,
               false,
               false,
               false,
               false,
               true,
               true,
               false
              ]
             },
             {
              "title": "QAT's language distribution across 1st and 2nd immigrants"
             }
            ],
            "label": "QAT",
            "method": "update"
           }
          ]
         }
        ],
        "xaxis": {
         "anchor": "y",
         "domain": [
          0,
          0.45
         ]
        },
        "xaxis2": {
         "anchor": "y2",
         "domain": [
          0.55,
          1
         ]
        },
        "yaxis": {
         "anchor": "x",
         "domain": [
          0,
          1
         ]
        },
        "yaxis2": {
         "anchor": "x2",
         "domain": [
          0,
          1
         ]
        }
       }
      }
     },
     "metadata": {},
     "output_type": "display_data"
    }
   ],
   "source": [
    "cnt = qqq_immi_fp[\"CNT\"].unique().tolist()\n",
    "lang  = qqq_immi_fp[\"LANGN\"].unique().tolist()\n",
    "\n",
    "button = []\n",
    "\n",
    "id = 0\n",
    "#pos = 1\n",
    "\n",
    "# make a 2x3 grid with 5 subplots\n",
    "fig = make_subplots(rows=1, cols=2, specs=[[{'type':'bar'}, {'type':'bar'}]])\n",
    "\n",
    "# loop through continent\n",
    "for i, con in enumerate(cnt):\n",
    "    fig.add_trace(go.Bar(x=qqq_immi_fp1.loc[qqq_immi_fp1['CNT'] == con]['LANGN'].tolist(), y=qqq_immi_fp1.loc[qqq_immi_fp1['CNT'] == con]['Count'].tolist(), name=\"1st\", visible=False),1, 1)\n",
    "    fig.add_trace(go.Bar(x=qqq_immi_fp2.loc[qqq_immi_fp2['CNT'] == con]['LANGN'].tolist(), y=qqq_immi_fp2.loc[qqq_immi_fp2['CNT'] == con]['Count'].tolist(), name=\"2nd\", visible=False),1, 2)\n",
    "\n",
    "    visual = [False]*16  # initial visual\n",
    "    visual[id:id+1] = [True,True]  # every 5 donut will be visible\n",
    "\n",
    "    id += 2\n",
    "\n",
    "    bton = dict(\n",
    "        label = con,\n",
    "        method = 'update',\n",
    "        args = [{\"visible\": visual},\n",
    "                {\"title\": \"{}'s language distribution across 1st and 2nd immigrants\".format(con)}]\n",
    "    )  # create value in button\n",
    "\n",
    "    button.append(bton)\n",
    "\n",
    "fig.update_layout(\n",
    "    updatemenus=[\n",
    "        dict(\n",
    "            buttons=button,\n",
    "        )\n",
    "    ])\n",
    "\n",
    "fig.show()\n",
    "\n",
    "\n",
    "\n",
    "    "
   ]
  }
 ],
 "metadata": {
  "kernelspec": {
   "display_name": "base",
   "language": "python",
   "name": "python3"
  },
  "language_info": {
   "codemirror_mode": {
    "name": "ipython",
    "version": 3
   },
   "file_extension": ".py",
   "mimetype": "text/x-python",
   "name": "python",
   "nbconvert_exporter": "python",
   "pygments_lexer": "ipython3",
   "version": "3.10.8"
  }
 },
 "nbformat": 4,
 "nbformat_minor": 2
}
